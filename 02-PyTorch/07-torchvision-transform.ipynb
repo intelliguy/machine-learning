{
 "cells": [
  {
   "cell_type": "markdown",
   "id": "ca31a8b1",
   "metadata": {},
   "source": [
    "딥러닝 모델이 이미지를 학습하기 전 **이미지 정규화**를 진행하는 것은 **일반적으로 수행하는 전처리** 입니다.\n",
    "\n",
    "이미지 정규화를 진행하는 대표적인 이유 중 하나는 오차역전파(backpropagation)시, 그라디언트(Gradient) 계산을 수행하게 되는데, 데이터가 유사한 범위를 가지도록 하기 위함입니다.\n",
    "\n",
    "하지만, 정규화를 어떻게 수행하는가에 따라서 모델의 학습결과는 달라질 수 있습니다.\n",
    "\n",
    "이번에는 다양한 정규화 적용 방법에 대하여 알아보고, 정규화된 결과가 어떻게 달라지는지 확인해 보도록 하겠습니다."
   ]
  },
  {
   "cell_type": "markdown",
   "id": "c5de0baf",
   "metadata": {},
   "source": [
    "## 모듈 import"
   ]
  },
  {
   "cell_type": "code",
   "execution_count": 1,
   "id": "0bd10b24",
   "metadata": {},
   "outputs": [],
   "source": [
    "import numpy as np\n",
    "import torch\n",
    "from torch.utils.data import Dataset\n",
    "from torchvision import datasets, transforms"
   ]
  },
  {
   "cell_type": "markdown",
   "id": "d3d6139c",
   "metadata": {},
   "source": [
    "## `torchvision.transforms`"
   ]
  },
  {
   "cell_type": "markdown",
   "id": "85c7940f",
   "metadata": {},
   "source": [
    "`torchvision`의 `transforms`를 활용하여 정규화를 적용할 수 있습니다."
   ]
  },
  {
   "cell_type": "markdown",
   "id": "b8510ca9",
   "metadata": {},
   "source": [
    "`transoforms.ToTensor()` 외 다른 Normalize()를 적용하지 않은 경우\n",
    "\n",
    "- 정규화(Normalize) 한 결과가 **0 ~ 1** 범위로 변환됩니다."
   ]
  },
  {
   "cell_type": "code",
   "execution_count": 2,
   "id": "046aeed5",
   "metadata": {},
   "outputs": [],
   "source": [
    "transform = transforms.Compose([\n",
    "    # 0~1의 범위를 가지도록 정규화\n",
    "    transforms.ToTensor(),\n",
    "])"
   ]
  },
  {
   "cell_type": "markdown",
   "id": "01034369",
   "metadata": {},
   "source": [
    "`datasets.CIFAR10` 데이터셋을 로드 하였습니다.\n",
    "\n",
    "데이터셋 로드시 `transform` 옵션에 지정할 수 있습니다."
   ]
  },
  {
   "cell_type": "code",
   "execution_count": 3,
   "id": "fa434082",
   "metadata": {},
   "outputs": [
    {
     "name": "stdout",
     "output_type": "stream",
     "text": [
      "Files already downloaded and verified\n"
     ]
    }
   ],
   "source": [
    "# datasets의 CIFAR10 데이터셋 로드 (train 데이터셋)\n",
    "train = datasets.CIFAR10(root='data', \n",
    "                         train=True, \n",
    "                         download=True, \n",
    "                         # transform 지정\n",
    "                         transform=transform                \n",
    "                        )"
   ]
  },
  {
   "cell_type": "code",
   "execution_count": 4,
   "id": "00d964a5",
   "metadata": {},
   "outputs": [
    {
     "name": "stdout",
     "output_type": "stream",
     "text": [
      "Files already downloaded and verified\n"
     ]
    }
   ],
   "source": [
    "# datasets의 CIFAR10 데이터셋 로드 (test 데이터셋)\n",
    "test = datasets.CIFAR10(root='data', \n",
    "                        train=False, \n",
    "                        download=True, \n",
    "                        # transform 지정\n",
    "                        transform=transform\n",
    "                       )"
   ]
  },
  {
   "cell_type": "code",
   "execution_count": 23,
   "id": "6d53e5db",
   "metadata": {},
   "outputs": [],
   "source": [
    "# 이미지의 RGB 채널별 통계량 확인 함수\n",
    "def print_stats(dataset):\n",
    "    imgs = np.array([img.numpy() for img, _ in dataset])\n",
    "    print(f'shape: {imgs.shape}')\n",
    "    \n",
    "    min_r = np.min(imgs, axis=(2, 3))[:, 0].min()\n",
    "    min_g = np.min(imgs, axis=(2, 3))[:, 1].min()\n",
    "    min_b = np.min(imgs, axis=(2, 3))[:, 2].min()\n",
    "\n",
    "    max_r = np.max(imgs, axis=(2, 3))[:, 0].max()\n",
    "    max_g = np.max(imgs, axis=(2, 3))[:, 1].max()\n",
    "    max_b = np.max(imgs, axis=(2, 3))[:, 2].max()\n",
    "\n",
    "    mean_r = np.mean(imgs, axis=(2, 3))[:, 0].mean()\n",
    "    mean_g = np.mean(imgs, axis=(2, 3))[:, 1].mean()\n",
    "    mean_b = np.mean(imgs, axis=(2, 3))[:, 2].mean()\n",
    "\n",
    "    std_r = np.std(imgs, axis=(2, 3))[:, 0].std()\n",
    "    std_g = np.std(imgs, axis=(2, 3))[:, 1].std()\n",
    "    std_b = np.std(imgs, axis=(2, 3))[:, 2].std()\n",
    "    \n",
    "    print(f'min: {min_r, min_g, min_b}')\n",
    "    print(f'max: {max_r, max_g, max_b}')\n",
    "    print(f'mean: {mean_r, mean_g, mean_b}')\n",
    "    print(f'std: {std_r, std_g, std_b}')"
   ]
  },
  {
   "cell_type": "markdown",
   "id": "3bafe0ef",
   "metadata": {},
   "source": [
    "`transforms.ToTensor()`만 적용한 경우, 모든 이미지의 픽셀 값이 `0~1`의 범위를 가지도록 변환되었습니다."
   ]
  },
  {
   "cell_type": "code",
   "execution_count": 6,
   "id": "63751e11",
   "metadata": {},
   "outputs": [
    {
     "name": "stdout",
     "output_type": "stream",
     "text": [
      "shape: (50000, 3, 32, 32)\n",
      "min: (0.0, 0.0, 0.0)\n",
      "max: (1.0, 1.0, 1.0)\n",
      "mean: (0.49139965, 0.48215845, 0.4465309)\n",
      "std: (0.060528398, 0.061124973, 0.06764512)\n",
      "==============================\n",
      "shape: (10000, 3, 32, 32)\n",
      "min: (0.0, 0.0, 0.0)\n",
      "max: (1.0, 1.0, 1.0)\n",
      "mean: (0.49421427, 0.48513138, 0.45040908)\n",
      "std: (0.06047972, 0.06123986, 0.06758436)\n"
     ]
    }
   ],
   "source": [
    "print_stats(train)\n",
    "print('==='*10)\n",
    "print_stats(test)"
   ]
  },
  {
   "cell_type": "markdown",
   "id": "66a9201a",
   "metadata": {},
   "source": [
    "## `transforms.Normalize((0.5, 0.5, 0.5), (0.5, 0.5, 0.5))` 적용"
   ]
  },
  {
   "cell_type": "markdown",
   "id": "7f614d7d",
   "metadata": {},
   "source": [
    "이번에는 `Normalize()` 함수 안에 `(0.5, 0.5, 0.5), (0.5, 0.5, 0.5)`로 적용하겠습니다.\n",
    "\n",
    "- 정규화(Normalize) 한 결과가 **-1 ~ 1** 범위로 변환됩니다."
   ]
  },
  {
   "cell_type": "code",
   "execution_count": 7,
   "id": "addf2da8",
   "metadata": {},
   "outputs": [],
   "source": [
    "transform = transforms.Compose([\n",
    "    transforms.ToTensor(),\n",
    "    # -1 ~ 1 사이의 범위를 가지도록 정규화\n",
    "    transforms.Normalize((0.5, 0.5, 0.5), (0.5, 0.5, 0.5))\n",
    "])"
   ]
  },
  {
   "cell_type": "code",
   "execution_count": 8,
   "id": "f2303566",
   "metadata": {},
   "outputs": [
    {
     "name": "stdout",
     "output_type": "stream",
     "text": [
      "Files already downloaded and verified\n"
     ]
    }
   ],
   "source": [
    "# datasets의 CIFAR10 데이터셋 로드 (train 데이터셋)\n",
    "train = datasets.CIFAR10(root='data', \n",
    "                         train=True, \n",
    "                         download=True, \n",
    "                         transform=transform                \n",
    "                        )"
   ]
  },
  {
   "cell_type": "code",
   "execution_count": 9,
   "id": "5aa5b151",
   "metadata": {},
   "outputs": [
    {
     "name": "stdout",
     "output_type": "stream",
     "text": [
      "Files already downloaded and verified\n"
     ]
    }
   ],
   "source": [
    "# datasets의 CIFAR10 데이터셋 로드 (test 데이터셋)\n",
    "test = datasets.CIFAR10(root='data', \n",
    "                        train=False, \n",
    "                        download=True, \n",
    "                        transform=transform\n",
    "                       )"
   ]
  },
  {
   "cell_type": "markdown",
   "id": "5239392b",
   "metadata": {},
   "source": [
    "아래 통계에서 확인할 수 있듯이, 이미지의 픽셀 값의 범위가 `0 ~ 1` 이 아닌 `-1 ~ 1` 사이의 범위를 가지도록 변환 되었습니다."
   ]
  },
  {
   "cell_type": "code",
   "execution_count": 10,
   "id": "18af6fa1",
   "metadata": {},
   "outputs": [
    {
     "name": "stdout",
     "output_type": "stream",
     "text": [
      "shape: (50000, 3, 32, 32)\n",
      "min: (-1.0, -1.0, -1.0)\n",
      "max: (1.0, 1.0, 1.0)\n",
      "mean: (-0.017200625, -0.035683163, -0.10693816)\n",
      "std: (0.121056795, 0.122249946, 0.13529024)\n",
      "==============================\n",
      "shape: (10000, 3, 32, 32)\n",
      "min: (-1.0, -1.0, -1.0)\n",
      "max: (1.0, 1.0, 1.0)\n",
      "mean: (-0.011571422, -0.029737204, -0.0991818)\n",
      "std: (0.12095944, 0.12247972, 0.13516872)\n"
     ]
    }
   ],
   "source": [
    "print_stats(train)\n",
    "print('==='*10)\n",
    "print_stats(test)"
   ]
  },
  {
   "cell_type": "markdown",
   "id": "212a6ec4",
   "metadata": {},
   "source": [
    "## `transforms.Normalize((0.485, 0.456, 0.406), (0.229, 0.224, 0.225)),` 적용시\n",
    "\n",
    "- ImageNet이 학습한 수백만장의 이미지의 RGB 각각의 채널에 대한 평균은 `0.485`, `0.456`, `0.406` 그리고 표준편차는 `0.229`, `0.224`, `0.225` 입니다. 만약, 일반적인 조도, 각도, 배경을 포함하는 평범한 이미지의 경우는 `(0.485, 0.456, 0.406), (0.229, 0.224, 0.225)`으로 정규화하는 것을 추천한다는 커뮤니티 의견이 지배적입니다.\n",
    "\n",
    "- 하지만, 전혀 새로운 이미지 데이터를 학습할 경우는 이 다음 섹션에서 가지고 있는 데이터셋에 대한 평균, 표준편차를 산출하여 적용할 수 있습니다."
   ]
  },
  {
   "cell_type": "code",
   "execution_count": 11,
   "id": "c74371e2",
   "metadata": {},
   "outputs": [],
   "source": [
    "transform = transforms.Compose([\n",
    "    transforms.ToTensor(),\n",
    "    transforms.Normalize((0.485, 0.456, 0.406), (0.229, 0.224, 0.225)),\n",
    "])"
   ]
  },
  {
   "cell_type": "code",
   "execution_count": 12,
   "id": "e47454ae",
   "metadata": {},
   "outputs": [
    {
     "name": "stdout",
     "output_type": "stream",
     "text": [
      "Files already downloaded and verified\n"
     ]
    }
   ],
   "source": [
    "# datasets의 CIFAR10 데이터셋 로드 (train 데이터셋)\n",
    "train = datasets.CIFAR10(root='data', \n",
    "                         train=True, \n",
    "                         download=True, \n",
    "                         transform=transform                \n",
    "                        )"
   ]
  },
  {
   "cell_type": "code",
   "execution_count": 13,
   "id": "5b07f8c4",
   "metadata": {},
   "outputs": [
    {
     "name": "stdout",
     "output_type": "stream",
     "text": [
      "Files already downloaded and verified\n"
     ]
    }
   ],
   "source": [
    "# datasets의 CIFAR10 데이터셋 로드 (test 데이터셋)\n",
    "test = datasets.CIFAR10(root='data', \n",
    "                        train=False, \n",
    "                        download=True, \n",
    "                        transform=transform\n",
    "                       )"
   ]
  },
  {
   "cell_type": "code",
   "execution_count": 14,
   "id": "beccc205",
   "metadata": {},
   "outputs": [
    {
     "name": "stdout",
     "output_type": "stream",
     "text": [
      "shape: (50000, 3, 32, 32)\n",
      "min: (-2.117904, -2.0357141, -1.8044444)\n",
      "max: (2.2489083, 2.4285715, 2.64)\n",
      "mean: (0.027946174, 0.116778664, 0.1801375)\n",
      "std: (0.2643161, 0.27287933, 0.30064496)\n",
      "==============================\n",
      "shape: (10000, 3, 32, 32)\n",
      "min: (-2.117904, -2.0357141, -1.8044444)\n",
      "max: (2.2489083, 2.4285715, 2.64)\n",
      "mean: (0.04023701, 0.1300509, 0.19737385)\n",
      "std: (0.26410356, 0.27339223, 0.30037493)\n"
     ]
    }
   ],
   "source": [
    "print_stats(train)\n",
    "print('==='*10)\n",
    "print_stats(test)"
   ]
  },
  {
   "cell_type": "markdown",
   "id": "c2e65077",
   "metadata": {},
   "source": [
    "## 데이터셋의 평균(mean)과 표준편차(std)를 계산하여 적용시\n",
    "\n",
    "- 학습할 이미지 데이터셋이 일반적인 조도, 각도, 배경, 사물체가 아닌 경우는 직접 평균/표준편차를 계산하여 적용할 수 있습니다."
   ]
  },
  {
   "cell_type": "markdown",
   "id": "6dbd80ca",
   "metadata": {},
   "source": [
    "아래 함수는 이미지 데이터셋에 대하여 평균, 표준편차를 산출해 주는 함수 입니다."
   ]
  },
  {
   "cell_type": "code",
   "execution_count": 15,
   "id": "d20e5d5e",
   "metadata": {},
   "outputs": [],
   "source": [
    "def calculate_norm(dataset):\n",
    "    # dataset의 axis=1, 2에 대한 평균 산출\n",
    "    mean_ = np.array([np.mean(x.numpy(), axis=(1, 2)) for x, _ in dataset])\n",
    "    # r, g, b 채널에 대한 각각의 평균 산출\n",
    "    mean_r = mean_[:, 0].mean()\n",
    "    mean_g = mean_[:, 1].mean()\n",
    "    mean_b = mean_[:, 2].mean()\n",
    "\n",
    "    # dataset의 axis=1, 2에 대한 표준편차 산출\n",
    "    std_ = np.array([np.std(x.numpy(), axis=(1, 2)) for x, _ in dataset])\n",
    "    # r, g, b 채널에 대한 각각의 표준편차 산출\n",
    "    std_r = std_[:, 0].mean()\n",
    "    std_g = std_[:, 1].mean()\n",
    "    std_b = std_[:, 2].mean()\n",
    "    \n",
    "    return (mean_r, mean_g, mean_b), (std_r, std_g, std_b)"
   ]
  },
  {
   "cell_type": "code",
   "execution_count": 16,
   "id": "3cdca19e",
   "metadata": {},
   "outputs": [],
   "source": [
    "# 먼저, 변환하기 전 이미지 데이터셋을 로드 하기 위하여 transforms.ToTensor() 만 적용합니다.\n",
    "transform = transforms.Compose([\n",
    "    transforms.ToTensor(),\n",
    "])"
   ]
  },
  {
   "cell_type": "code",
   "execution_count": 17,
   "id": "ce5ad4d9",
   "metadata": {},
   "outputs": [
    {
     "name": "stdout",
     "output_type": "stream",
     "text": [
      "Files already downloaded and verified\n"
     ]
    }
   ],
   "source": [
    "# datasets의 CIFAR10 데이터셋 로드 (train 데이터셋)\n",
    "train = datasets.CIFAR10(root='data', \n",
    "                         train=True, \n",
    "                         download=True, \n",
    "                         transform=transform                \n",
    "                        )"
   ]
  },
  {
   "cell_type": "markdown",
   "id": "f15e9d18",
   "metadata": {},
   "source": [
    "계산된 평균과 표준편차는 다음과 같습니다."
   ]
  },
  {
   "cell_type": "code",
   "execution_count": 18,
   "id": "a32e1b39",
   "metadata": {},
   "outputs": [
    {
     "name": "stdout",
     "output_type": "stream",
     "text": [
      "평균(R,G,B): (0.49139965, 0.48215845, 0.4465309)\n",
      "표준편차(R,G,B): (0.20220213, 0.19931543, 0.20086348)\n"
     ]
    }
   ],
   "source": [
    "mean_, std_ = calculate_norm(train)\n",
    "print(f'평균(R,G,B): {mean_}\\n표준편차(R,G,B): {std_}')"
   ]
  },
  {
   "cell_type": "markdown",
   "id": "6c58a7ed",
   "metadata": {},
   "source": [
    "이제 계산된 평균과 표준편차를 적용하여 변환합니다."
   ]
  },
  {
   "cell_type": "code",
   "execution_count": 19,
   "id": "d008ff59",
   "metadata": {},
   "outputs": [],
   "source": [
    "transform = transforms.Compose([\n",
    "    transforms.ToTensor(),\n",
    "    transforms.Normalize(mean_, std_),\n",
    "])"
   ]
  },
  {
   "cell_type": "code",
   "execution_count": 20,
   "id": "ffd63e25",
   "metadata": {},
   "outputs": [
    {
     "name": "stdout",
     "output_type": "stream",
     "text": [
      "Files already downloaded and verified\n"
     ]
    }
   ],
   "source": [
    "# datasets의 CIFAR10 데이터셋 로드 (train 데이터셋)\n",
    "train = datasets.CIFAR10(root='data', \n",
    "                         train=True, \n",
    "                         download=True, \n",
    "                         transform=transform                \n",
    "                        )"
   ]
  },
  {
   "cell_type": "code",
   "execution_count": 21,
   "id": "b37aa679",
   "metadata": {},
   "outputs": [
    {
     "name": "stdout",
     "output_type": "stream",
     "text": [
      "Files already downloaded and verified\n"
     ]
    }
   ],
   "source": [
    "# datasets의 CIFAR10 데이터셋 로드 (test 데이터셋)\n",
    "test = datasets.CIFAR10(root='data', \n",
    "                        train=False, \n",
    "                        download=True, \n",
    "                        transform=transform\n",
    "                       )"
   ]
  },
  {
   "cell_type": "markdown",
   "id": "2cb7c346",
   "metadata": {},
   "source": [
    "아래 변환된 통계량을 보면, train 셋의 평균은 거의 `(0, 0, 0)`에 수렴하는 것을 확인할 수 있습니다. (이는 train 셋을 기준으로 변환했기 때문입니다.)"
   ]
  },
  {
   "cell_type": "code",
   "execution_count": 22,
   "id": "983645a3",
   "metadata": {},
   "outputs": [
    {
     "name": "stdout",
     "output_type": "stream",
     "text": [
      "shape: (50000, 3, 32, 32)\n",
      "min: (-2.4302397, -2.4190724, -2.2230568)\n",
      "max: (2.5153067, 2.598101, 2.7554488)\n",
      "mean: (2.0912171e-07, -1.5499116e-07, 8.5353854e-08)\n",
      "std: (0.299346, 0.30667457, 0.3367716)\n",
      "==============================\n",
      "shape: (10000, 3, 32, 32)\n",
      "min: (-2.4302397, -2.4190724, -2.2230568)\n",
      "max: (2.5153067, 2.598101, 2.7554488)\n",
      "mean: (0.01391995, 0.014915802, 0.019307619)\n",
      "std: (0.29910526, 0.307251, 0.33646908)\n"
     ]
    }
   ],
   "source": [
    "print_stats(train)\n",
    "print('==='*10)\n",
    "print_stats(test)"
   ]
  }
 ],
 "metadata": {
  "kernelspec": {
   "display_name": "Python 3 (ipykernel)",
   "language": "python",
   "name": "python3"
  },
  "language_info": {
   "codemirror_mode": {
    "name": "ipython",
    "version": 3
   },
   "file_extension": ".py",
   "mimetype": "text/x-python",
   "name": "python",
   "nbconvert_exporter": "python",
   "pygments_lexer": "ipython3",
   "version": "3.7.13"
  }
 },
 "nbformat": 4,
 "nbformat_minor": 5
}

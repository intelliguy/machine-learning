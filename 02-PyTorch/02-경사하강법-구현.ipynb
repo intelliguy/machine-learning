{
 "cells": [
  {
   "cell_type": "code",
   "execution_count": 2,
   "id": "39314692",
   "metadata": {},
   "outputs": [],
   "source": [
    "import torch\n",
    "import numpy as np\n",
    "import matplotlib.pyplot as plt"
   ]
  },
  {
   "cell_type": "markdown",
   "id": "a53792af",
   "metadata": {},
   "source": [
    "## 샘플 데이터셋 생성"
   ]
  },
  {
   "cell_type": "code",
   "execution_count": 42,
   "id": "05d1fec4",
   "metadata": {},
   "outputs": [
    {
     "data": {
      "text/plain": [
       "tensor([ 1,  3,  5,  7,  9, 11, 13, 15, 17, 19])"
      ]
     },
     "execution_count": 42,
     "metadata": {},
     "output_type": "execute_result"
    }
   ],
   "source": [
    "x = torch.tensor(np.arange(10))\n",
    "y = 2*x + 1\n",
    "y"
   ]
  },
  {
   "cell_type": "code",
   "execution_count": 62,
   "id": "ff7853d2",
   "metadata": {},
   "outputs": [
    {
     "data": {
      "image/png": "[encoded data removed]",
      "text/plain": [
       "<Figure size 432x288 with 1 Axes>"
      ]
     },
     "metadata": {
      "needs_background": "light"
     },
     "output_type": "display_data"
    }
   ],
   "source": [
    "plt.title('y = 2x + b', fontsize=15)\n",
    "plt.scatter(x, y)\n",
    "plt.show()"
   ]
  },
  {
   "cell_type": "code",
   "execution_count": 47,
   "id": "879c2dd9",
   "metadata": {},
   "outputs": [
    {
     "data": {
      "text/plain": [
       "(tensor([0.8925], requires_grad=True), tensor([1.2460], requires_grad=True))"
      ]
     },
     "execution_count": 47,
     "metadata": {},
     "output_type": "execute_result"
    }
   ],
   "source": [
    "# random w, b 생성\n",
    "w = torch.randn(1, requires_grad=True)\n",
    "b = torch.randn(1, requires_grad=True)\n",
    "w, b"
   ]
  },
  {
   "cell_type": "code",
   "execution_count": 48,
   "id": "c4d9cbad",
   "metadata": {},
   "outputs": [],
   "source": [
    "# Hypothesis Function 정의\n",
    "y_hat = w*x + b"
   ]
  },
  {
   "cell_type": "code",
   "execution_count": 49,
   "id": "b76f44f8",
   "metadata": {},
   "outputs": [],
   "source": [
    "# Mean Squared Error(MSE) 오차 정의\n",
    "loss = ((y_hat - y)**2).mean()"
   ]
  },
  {
   "cell_type": "code",
   "execution_count": 50,
   "id": "4d539a6c",
   "metadata": {},
   "outputs": [],
   "source": [
    "# BackPropagation (Gradient 계산)\n",
    "loss.backward()"
   ]
  },
  {
   "cell_type": "code",
   "execution_count": 56,
   "id": "d17648d8",
   "metadata": {},
   "outputs": [
    {
     "name": "stdout",
     "output_type": "stream",
     "text": [
      "w gradient: -60.91, b gradient: -9.48\n"
     ]
    }
   ],
   "source": [
    "# 결과 출력\n",
    "print(f'w gradient: {w.grad.item():.2f}, b gradient: {b.grad.item():.2f}')"
   ]
  },
  {
   "cell_type": "markdown",
   "id": "28351782",
   "metadata": {},
   "source": [
    "## w, b 의 직접 계산한 Gradient와 비교"
   ]
  },
  {
   "cell_type": "code",
   "execution_count": 58,
   "id": "ad2e7f7d",
   "metadata": {},
   "outputs": [],
   "source": [
    "w_grad = (2*(y_hat - y)*x).mean().item()\n",
    "b_grad = (2*(y_hat - y)).mean().item()"
   ]
  },
  {
   "cell_type": "code",
   "execution_count": 59,
   "id": "4ff2c4cb",
   "metadata": {},
   "outputs": [
    {
     "name": "stdout",
     "output_type": "stream",
     "text": [
      "w gradient: -60.91, b gradient: -9.48\n"
     ]
    }
   ],
   "source": [
    "print(f'w gradient: {w_grad:.2f}, b gradient: {b_grad:.2f}')"
   ]
  },
  {
   "cell_type": "markdown",
   "id": "152032c6",
   "metadata": {},
   "source": [
    "## Gradient 계산 미적용"
   ]
  },
  {
   "cell_type": "code",
   "execution_count": 60,
   "id": "6da931d2",
   "metadata": {},
   "outputs": [
    {
     "name": "stdout",
     "output_type": "stream",
     "text": [
      "True\n",
      "False\n"
     ]
    }
   ],
   "source": [
    "y_hat = w*x + b\n",
    "print(y_hat.requires_grad)\n",
    "\n",
    "with torch.no_grad():\n",
    "    y_hat = w*x + b\n",
    "    \n",
    "print(y_hat.requires_grad)"
   ]
  }
 ],
 "metadata": {
  "kernelspec": {
   "display_name": "Python 3 (ipykernel)",
   "language": "python",
   "name": "python3"
  },
  "language_info": {
   "codemirror_mode": {
    "name": "ipython",
    "version": 3
   },
   "file_extension": ".py",
   "mimetype": "text/x-python",
   "name": "python",
   "nbconvert_exporter": "python",
   "pygments_lexer": "ipython3",
   "version": "3.7.13"
  }
 },
 "nbformat": 4,
 "nbformat_minor": 5
}

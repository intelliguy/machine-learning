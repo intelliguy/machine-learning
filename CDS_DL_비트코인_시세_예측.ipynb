{
  "nbformat": 4,
  "nbformat_minor": 0,
  "metadata": {
    "accelerator": "GPU",
    "colab": {
      "name": "CDS_DL_비트코인_시세_예측.ipynb",
      "provenance": [],
      "collapsed_sections": [],
      "include_colab_link": true
    },
    "kernelspec": {
      "display_name": "Python 3",
      "language": "python",
      "name": "python3"
    },
    "language_info": {
      "codemirror_mode": {
        "name": "ipython",
        "version": 3
      },
      "file_extension": ".py",
      "mimetype": "text/x-python",
      "name": "python",
      "nbconvert_exporter": "python",
      "pygments_lexer": "ipython3",
      "version": "3.6.6"
    },
    "gpuClass": "standard"
  },
  "cells": [
    {
      "cell_type": "markdown",
      "metadata": {
        "id": "view-in-github",
        "colab_type": "text"
      },
      "source": [
        "<a href=\"https://colab.research.google.com/github/intelliguy/machine-learning/blob/master/CDS_DL_%E1%84%87%E1%85%B5%E1%84%90%E1%85%B3%E1%84%8F%E1%85%A9%E1%84%8B%E1%85%B5%E1%86%AB_%E1%84%89%E1%85%B5%E1%84%89%E1%85%A6_%E1%84%8B%E1%85%A8%E1%84%8E%E1%85%B3%E1%86%A8.ipynb\" target=\"_parent\"><img src=\"https://colab.research.google.com/assets/colab-badge.svg\" alt=\"Open In Colab\"/></a>"
      ]
    },
    {
      "cell_type": "markdown",
      "metadata": {
        "id": "sCmtzkeGPI2Q"
      },
      "source": [
        "# 시계열 예측 모델\n",
        "\n",
        "Sequence (시계열) 데이터 다루기"
      ]
    },
    {
      "cell_type": "markdown",
      "metadata": {
        "id": "iRSKbgK8PRs5"
      },
      "source": [
        "## 확인"
      ]
    },
    {
      "cell_type": "markdown",
      "metadata": {
        "id": "Fc4QcKvRPSj-"
      },
      "source": [
        "1. GPU 옵션 켜져 있는지 확인할 것!!! (수정 - 노트설정 - 하드웨어설정 (GPU))"
      ]
    },
    {
      "cell_type": "markdown",
      "metadata": {
        "id": "JNPjnA62PXVn"
      },
      "source": [
        "## 순서"
      ]
    },
    {
      "cell_type": "markdown",
      "metadata": {
        "id": "T463L0aPPX_n"
      },
      "source": [
        "1. **import**: 필요한 모듈 import\n",
        "2. **전처리**: 학습에 필요한 데이터 전처리를 수행합니다.\n",
        "3. **모델링(model)**: 모델을 정의합니다.\n",
        "4. **컴파일(compile)**: 모델을 생성합니다.\n",
        "5. **학습 (fit)**: 모델을 학습시킵니다."
      ]
    },
    {
      "cell_type": "markdown",
      "metadata": {
        "id": "W1Hj9c1NPbPu"
      },
      "source": [
        "## 문제"
      ]
    },
    {
      "cell_type": "markdown",
      "metadata": {
        "id": "RcvEYUuhPb3f"
      },
      "source": [
        "**금융 데이터**를 활용한 시계열 데이터 예측\n",
        "\n",
        "Finance DataReader를 활용하여 시계열 데이터를 로드하고 금융 데이터를 예측합니다."
      ]
    },
    {
      "cell_type": "markdown",
      "metadata": {
        "id": "NTUdLmS7TE40"
      },
      "source": [
        "## 필요한 모듈 import"
      ]
    },
    {
      "cell_type": "code",
      "metadata": {
        "id": "uqt0NBn4MZl5"
      },
      "source": [
        "import csv\n",
        "import tensorflow as tf\n",
        "import numpy as np\n",
        "import urllib\n",
        "import pandas as pd\n",
        "\n",
        "from tensorflow.keras.layers import Dense, LSTM, GRU, Conv1D\n",
        "from tensorflow.keras.models import Sequential\n",
        "from tensorflow.keras.callbacks import ModelCheckpoint\n",
        "from tensorflow.keras.optimizers import Adam"
      ],
      "execution_count": 113,
      "outputs": []
    },
    {
      "cell_type": "markdown",
      "source": [
        "## Finace DataReader\n",
        "\n",
        "[링크](https://github.com/FinanceData/FinanceDataReader)"
      ],
      "metadata": {
        "id": "QZN9c1vvsXq8"
      }
    },
    {
      "cell_type": "code",
      "metadata": {
        "id": "ixYVm16KMZl7",
        "colab": {
          "base_uri": "https://localhost:8080/"
        },
        "outputId": "1ff871d7-0801-4feb-c3c1-feb40e93d084"
      },
      "source": [
        "# 데이터를 받아오기 위해 finance-datareader 모듈을 설치합니다.\n",
        "!pip install -U finance-datareader"
      ],
      "execution_count": 2,
      "outputs": [
        {
          "output_type": "stream",
          "name": "stdout",
          "text": [
            "Looking in indexes: https://pypi.org/simple, https://us-python.pkg.dev/colab-wheels/public/simple/\n",
            "Collecting finance-datareader\n",
            "  Downloading finance_datareader-0.9.34-py3-none-any.whl (17 kB)\n",
            "Requirement already satisfied: pandas>=0.19.2 in /usr/local/lib/python3.7/dist-packages (from finance-datareader) (1.3.5)\n",
            "Requirement already satisfied: requests>=2.3.0 in /usr/local/lib/python3.7/dist-packages (from finance-datareader) (2.23.0)\n",
            "Requirement already satisfied: lxml in /usr/local/lib/python3.7/dist-packages (from finance-datareader) (4.9.1)\n",
            "Collecting requests-file\n",
            "  Downloading requests_file-1.5.1-py2.py3-none-any.whl (3.7 kB)\n",
            "Requirement already satisfied: tqdm in /usr/local/lib/python3.7/dist-packages (from finance-datareader) (4.64.0)\n",
            "Requirement already satisfied: pytz>=2017.3 in /usr/local/lib/python3.7/dist-packages (from pandas>=0.19.2->finance-datareader) (2022.2.1)\n",
            "Requirement already satisfied: python-dateutil>=2.7.3 in /usr/local/lib/python3.7/dist-packages (from pandas>=0.19.2->finance-datareader) (2.8.2)\n",
            "Requirement already satisfied: numpy>=1.17.3 in /usr/local/lib/python3.7/dist-packages (from pandas>=0.19.2->finance-datareader) (1.21.6)\n",
            "Requirement already satisfied: six>=1.5 in /usr/local/lib/python3.7/dist-packages (from python-dateutil>=2.7.3->pandas>=0.19.2->finance-datareader) (1.15.0)\n",
            "Requirement already satisfied: urllib3!=1.25.0,!=1.25.1,<1.26,>=1.21.1 in /usr/local/lib/python3.7/dist-packages (from requests>=2.3.0->finance-datareader) (1.24.3)\n",
            "Requirement already satisfied: certifi>=2017.4.17 in /usr/local/lib/python3.7/dist-packages (from requests>=2.3.0->finance-datareader) (2022.6.15)\n",
            "Requirement already satisfied: chardet<4,>=3.0.2 in /usr/local/lib/python3.7/dist-packages (from requests>=2.3.0->finance-datareader) (3.0.4)\n",
            "Requirement already satisfied: idna<3,>=2.5 in /usr/local/lib/python3.7/dist-packages (from requests>=2.3.0->finance-datareader) (2.10)\n",
            "Installing collected packages: requests-file, finance-datareader\n",
            "Successfully installed finance-datareader-0.9.34 requests-file-1.5.1\n"
          ]
        }
      ]
    },
    {
      "cell_type": "code",
      "source": [
        "import FinanceDataReader as fdr"
      ],
      "metadata": {
        "id": "MFXJN3K6sRoF"
      },
      "execution_count": 3,
      "outputs": []
    },
    {
      "cell_type": "code",
      "source": [
        "# 비트코인 시세를 가져옵니다.\n",
        "data = fdr.DataReader('BTC/KRW')\n",
        "data"
      ],
      "metadata": {
        "colab": {
          "base_uri": "https://localhost:8080/",
          "height": 455
        },
        "id": "SYxQdvgqsSRc",
        "outputId": "95b46ea5-1757-4513-cf20-118ad7d2863f"
      },
      "execution_count": 4,
      "outputs": [
        {
          "output_type": "execute_result",
          "data": {
            "text/plain": [
              "               Close      Open      High       Low   Volume  Change\n",
              "Date                                                               \n",
              "2017-05-23   3206000   3104000   3281000   3081000  21580.0  0.0329\n",
              "2017-05-24   4175000   3206000   4314000   3206000  34680.0  0.3022\n",
              "2017-05-25   4199000   4175000   4840000   3102000  35910.0  0.0057\n",
              "2017-05-26   3227000   4199000   4200000   2900000  36650.0 -0.2315\n",
              "2017-05-27   3152000   3227000   3288000   2460000  33750.0 -0.0232\n",
              "...              ...       ...       ...       ...      ...     ...\n",
              "2022-08-24  29086000  29255000  29668000  28917000    440.0 -0.0058\n",
              "2022-08-25  29264000  29086000  29500000  29000000    380.0  0.0061\n",
              "2022-08-26  27914000  29264000  29615000  27765000   1060.0 -0.0461\n",
              "2022-08-27  27741000  27914000  28113000  27464000    390.0 -0.0062\n",
              "2022-08-28  27602000  27738000  27873000  27590000   3060.0 -0.0050\n",
              "\n",
              "[1922 rows x 6 columns]"
            ],
            "text/html": [
              "\n",
              "  <div id=\"df-1a73aca4-0dda-4b01-bb59-982ae5621af3\">\n",
              "    <div class=\"colab-df-container\">\n",
              "      <div>\n",
              "<style scoped>\n",
              "    .dataframe tbody tr th:only-of-type {\n",
              "        vertical-align: middle;\n",
              "    }\n",
              "\n",
              "    .dataframe tbody tr th {\n",
              "        vertical-align: top;\n",
              "    }\n",
              "\n",
              "    .dataframe thead th {\n",
              "        text-align: right;\n",
              "    }\n",
              "</style>\n",
              "<table border=\"1\" class=\"dataframe\">\n",
              "  <thead>\n",
              "    <tr style=\"text-align: right;\">\n",
              "      <th></th>\n",
              "      <th>Close</th>\n",
              "      <th>Open</th>\n",
              "      <th>High</th>\n",
              "      <th>Low</th>\n",
              "      <th>Volume</th>\n",
              "      <th>Change</th>\n",
              "    </tr>\n",
              "    <tr>\n",
              "      <th>Date</th>\n",
              "      <th></th>\n",
              "      <th></th>\n",
              "      <th></th>\n",
              "      <th></th>\n",
              "      <th></th>\n",
              "      <th></th>\n",
              "    </tr>\n",
              "  </thead>\n",
              "  <tbody>\n",
              "    <tr>\n",
              "      <th>2017-05-23</th>\n",
              "      <td>3206000</td>\n",
              "      <td>3104000</td>\n",
              "      <td>3281000</td>\n",
              "      <td>3081000</td>\n",
              "      <td>21580.0</td>\n",
              "      <td>0.0329</td>\n",
              "    </tr>\n",
              "    <tr>\n",
              "      <th>2017-05-24</th>\n",
              "      <td>4175000</td>\n",
              "      <td>3206000</td>\n",
              "      <td>4314000</td>\n",
              "      <td>3206000</td>\n",
              "      <td>34680.0</td>\n",
              "      <td>0.3022</td>\n",
              "    </tr>\n",
              "    <tr>\n",
              "      <th>2017-05-25</th>\n",
              "      <td>4199000</td>\n",
              "      <td>4175000</td>\n",
              "      <td>4840000</td>\n",
              "      <td>3102000</td>\n",
              "      <td>35910.0</td>\n",
              "      <td>0.0057</td>\n",
              "    </tr>\n",
              "    <tr>\n",
              "      <th>2017-05-26</th>\n",
              "      <td>3227000</td>\n",
              "      <td>4199000</td>\n",
              "      <td>4200000</td>\n",
              "      <td>2900000</td>\n",
              "      <td>36650.0</td>\n",
              "      <td>-0.2315</td>\n",
              "    </tr>\n",
              "    <tr>\n",
              "      <th>2017-05-27</th>\n",
              "      <td>3152000</td>\n",
              "      <td>3227000</td>\n",
              "      <td>3288000</td>\n",
              "      <td>2460000</td>\n",
              "      <td>33750.0</td>\n",
              "      <td>-0.0232</td>\n",
              "    </tr>\n",
              "    <tr>\n",
              "      <th>...</th>\n",
              "      <td>...</td>\n",
              "      <td>...</td>\n",
              "      <td>...</td>\n",
              "      <td>...</td>\n",
              "      <td>...</td>\n",
              "      <td>...</td>\n",
              "    </tr>\n",
              "    <tr>\n",
              "      <th>2022-08-24</th>\n",
              "      <td>29086000</td>\n",
              "      <td>29255000</td>\n",
              "      <td>29668000</td>\n",
              "      <td>28917000</td>\n",
              "      <td>440.0</td>\n",
              "      <td>-0.0058</td>\n",
              "    </tr>\n",
              "    <tr>\n",
              "      <th>2022-08-25</th>\n",
              "      <td>29264000</td>\n",
              "      <td>29086000</td>\n",
              "      <td>29500000</td>\n",
              "      <td>29000000</td>\n",
              "      <td>380.0</td>\n",
              "      <td>0.0061</td>\n",
              "    </tr>\n",
              "    <tr>\n",
              "      <th>2022-08-26</th>\n",
              "      <td>27914000</td>\n",
              "      <td>29264000</td>\n",
              "      <td>29615000</td>\n",
              "      <td>27765000</td>\n",
              "      <td>1060.0</td>\n",
              "      <td>-0.0461</td>\n",
              "    </tr>\n",
              "    <tr>\n",
              "      <th>2022-08-27</th>\n",
              "      <td>27741000</td>\n",
              "      <td>27914000</td>\n",
              "      <td>28113000</td>\n",
              "      <td>27464000</td>\n",
              "      <td>390.0</td>\n",
              "      <td>-0.0062</td>\n",
              "    </tr>\n",
              "    <tr>\n",
              "      <th>2022-08-28</th>\n",
              "      <td>27602000</td>\n",
              "      <td>27738000</td>\n",
              "      <td>27873000</td>\n",
              "      <td>27590000</td>\n",
              "      <td>3060.0</td>\n",
              "      <td>-0.0050</td>\n",
              "    </tr>\n",
              "  </tbody>\n",
              "</table>\n",
              "<p>1922 rows × 6 columns</p>\n",
              "</div>\n",
              "      <button class=\"colab-df-convert\" onclick=\"convertToInteractive('df-1a73aca4-0dda-4b01-bb59-982ae5621af3')\"\n",
              "              title=\"Convert this dataframe to an interactive table.\"\n",
              "              style=\"display:none;\">\n",
              "        \n",
              "  <svg xmlns=\"http://www.w3.org/2000/svg\" height=\"24px\"viewBox=\"0 0 24 24\"\n",
              "       width=\"24px\">\n",
              "    <path d=\"M0 0h24v24H0V0z\" fill=\"none\"/>\n",
              "    <path d=\"M18.56 5.44l.94 2.06.94-2.06 2.06-.94-2.06-.94-.94-2.06-.94 2.06-2.06.94zm-11 1L8.5 8.5l.94-2.06 2.06-.94-2.06-.94L8.5 2.5l-.94 2.06-2.06.94zm10 10l.94 2.06.94-2.06 2.06-.94-2.06-.94-.94-2.06-.94 2.06-2.06.94z\"/><path d=\"M17.41 7.96l-1.37-1.37c-.4-.4-.92-.59-1.43-.59-.52 0-1.04.2-1.43.59L10.3 9.45l-7.72 7.72c-.78.78-.78 2.05 0 2.83L4 21.41c.39.39.9.59 1.41.59.51 0 1.02-.2 1.41-.59l7.78-7.78 2.81-2.81c.8-.78.8-2.07 0-2.86zM5.41 20L4 18.59l7.72-7.72 1.47 1.35L5.41 20z\"/>\n",
              "  </svg>\n",
              "      </button>\n",
              "      \n",
              "  <style>\n",
              "    .colab-df-container {\n",
              "      display:flex;\n",
              "      flex-wrap:wrap;\n",
              "      gap: 12px;\n",
              "    }\n",
              "\n",
              "    .colab-df-convert {\n",
              "      background-color: #E8F0FE;\n",
              "      border: none;\n",
              "      border-radius: 50%;\n",
              "      cursor: pointer;\n",
              "      display: none;\n",
              "      fill: #1967D2;\n",
              "      height: 32px;\n",
              "      padding: 0 0 0 0;\n",
              "      width: 32px;\n",
              "    }\n",
              "\n",
              "    .colab-df-convert:hover {\n",
              "      background-color: #E2EBFA;\n",
              "      box-shadow: 0px 1px 2px rgba(60, 64, 67, 0.3), 0px 1px 3px 1px rgba(60, 64, 67, 0.15);\n",
              "      fill: #174EA6;\n",
              "    }\n",
              "\n",
              "    [theme=dark] .colab-df-convert {\n",
              "      background-color: #3B4455;\n",
              "      fill: #D2E3FC;\n",
              "    }\n",
              "\n",
              "    [theme=dark] .colab-df-convert:hover {\n",
              "      background-color: #434B5C;\n",
              "      box-shadow: 0px 1px 3px 1px rgba(0, 0, 0, 0.15);\n",
              "      filter: drop-shadow(0px 1px 2px rgba(0, 0, 0, 0.3));\n",
              "      fill: #FFFFFF;\n",
              "    }\n",
              "  </style>\n",
              "\n",
              "      <script>\n",
              "        const buttonEl =\n",
              "          document.querySelector('#df-1a73aca4-0dda-4b01-bb59-982ae5621af3 button.colab-df-convert');\n",
              "        buttonEl.style.display =\n",
              "          google.colab.kernel.accessAllowed ? 'block' : 'none';\n",
              "\n",
              "        async function convertToInteractive(key) {\n",
              "          const element = document.querySelector('#df-1a73aca4-0dda-4b01-bb59-982ae5621af3');\n",
              "          const dataTable =\n",
              "            await google.colab.kernel.invokeFunction('convertToInteractive',\n",
              "                                                     [key], {});\n",
              "          if (!dataTable) return;\n",
              "\n",
              "          const docLinkHtml = 'Like what you see? Visit the ' +\n",
              "            '<a target=\"_blank\" href=https://colab.research.google.com/notebooks/data_table.ipynb>data table notebook</a>'\n",
              "            + ' to learn more about interactive tables.';\n",
              "          element.innerHTML = '';\n",
              "          dataTable['output_type'] = 'display_data';\n",
              "          await google.colab.output.renderOutput(dataTable, element);\n",
              "          const docLink = document.createElement('div');\n",
              "          docLink.innerHTML = docLinkHtml;\n",
              "          element.appendChild(docLink);\n",
              "        }\n",
              "      </script>\n",
              "    </div>\n",
              "  </div>\n",
              "  "
            ]
          },
          "metadata": {},
          "execution_count": 4
        }
      ]
    },
    {
      "cell_type": "code",
      "source": [
        "data['Close'].plot(figsize=(10, 5))"
      ],
      "metadata": {
        "colab": {
          "base_uri": "https://localhost:8080/",
          "height": 347
        },
        "id": "HPERlmlqseLk",
        "outputId": "c58187e3-9511-480a-91f9-77e1bd1df279"
      },
      "execution_count": 5,
      "outputs": [
        {
          "output_type": "execute_result",
          "data": {
            "text/plain": [
              "<matplotlib.axes._subplots.AxesSubplot at 0x7f1da80e0c10>"
            ]
          },
          "metadata": {},
          "execution_count": 5
        },
        {
          "output_type": "display_data",
          "data": {
            "text/plain": [
              "<Figure size 720x360 with 1 Axes>"
            ],
            "image/png": "[encoded data removed]"
          },
          "metadata": {
            "needs_background": "light"
          }
        }
      ]
    },
    {
      "cell_type": "code",
      "source": [
        "# 아래 컬럼의 데이터만 추출하여 최초 최대 정규화를 적용하세요.\n",
        "# ['Open', 'High', 'Low', 'Close', 'Volume']\n",
        "from sklearn.preprocessing import MinMaxScaler\n",
        "\n",
        "scaler = MinMaxScaler()\n",
        "scale_cols = ['Open', 'High', 'Low', 'Close', 'Volume']\n",
        "df_scaled = scaler.fit_transform(data[scale_cols])\n",
        "\n",
        "df_scaled = pd.DataFrame(df_scaled)\n",
        "df_scaled.columns = scale_cols\n",
        "df_scaled"
      ],
      "metadata": {
        "colab": {
          "base_uri": "https://localhost:8080/",
          "height": 424
        },
        "id": "wmhMFHGvsguU",
        "outputId": "783d343e-3fe0-433d-f6cf-f2fa9a19b0ee"
      },
      "execution_count": 6,
      "outputs": [
        {
          "output_type": "execute_result",
          "data": {
            "text/plain": [
              "          Open      High       Low     Close    Volume\n",
              "0     0.011237  0.011817  0.016351  0.012523  0.175837\n",
              "1     0.012523  0.024706  0.017946  0.024744  0.282776\n",
              "2     0.024744  0.031270  0.016619  0.025047  0.292816\n",
              "3     0.025047  0.023284  0.014040  0.012788  0.298857\n",
              "4     0.012788  0.011904  0.008424  0.011842  0.275184\n",
              "...        ...       ...       ...       ...       ...\n",
              "1917  0.341048  0.341074  0.346118  0.338916  0.003265\n",
              "1918  0.338916  0.338978  0.347178  0.341161  0.002776\n",
              "1919  0.341161  0.340413  0.331414  0.324135  0.008327\n",
              "1920  0.324135  0.321671  0.327573  0.321953  0.002857\n",
              "1921  0.321915  0.318676  0.329181  0.320200  0.024653\n",
              "\n",
              "[1922 rows x 5 columns]"
            ],
            "text/html": [
              "\n",
              "  <div id=\"df-65a85255-0e2f-4c73-8473-a02e70280104\">\n",
              "    <div class=\"colab-df-container\">\n",
              "      <div>\n",
              "<style scoped>\n",
              "    .dataframe tbody tr th:only-of-type {\n",
              "        vertical-align: middle;\n",
              "    }\n",
              "\n",
              "    .dataframe tbody tr th {\n",
              "        vertical-align: top;\n",
              "    }\n",
              "\n",
              "    .dataframe thead th {\n",
              "        text-align: right;\n",
              "    }\n",
              "</style>\n",
              "<table border=\"1\" class=\"dataframe\">\n",
              "  <thead>\n",
              "    <tr style=\"text-align: right;\">\n",
              "      <th></th>\n",
              "      <th>Open</th>\n",
              "      <th>High</th>\n",
              "      <th>Low</th>\n",
              "      <th>Close</th>\n",
              "      <th>Volume</th>\n",
              "    </tr>\n",
              "  </thead>\n",
              "  <tbody>\n",
              "    <tr>\n",
              "      <th>0</th>\n",
              "      <td>0.011237</td>\n",
              "      <td>0.011817</td>\n",
              "      <td>0.016351</td>\n",
              "      <td>0.012523</td>\n",
              "      <td>0.175837</td>\n",
              "    </tr>\n",
              "    <tr>\n",
              "      <th>1</th>\n",
              "      <td>0.012523</td>\n",
              "      <td>0.024706</td>\n",
              "      <td>0.017946</td>\n",
              "      <td>0.024744</td>\n",
              "      <td>0.282776</td>\n",
              "    </tr>\n",
              "    <tr>\n",
              "      <th>2</th>\n",
              "      <td>0.024744</td>\n",
              "      <td>0.031270</td>\n",
              "      <td>0.016619</td>\n",
              "      <td>0.025047</td>\n",
              "      <td>0.292816</td>\n",
              "    </tr>\n",
              "    <tr>\n",
              "      <th>3</th>\n",
              "      <td>0.025047</td>\n",
              "      <td>0.023284</td>\n",
              "      <td>0.014040</td>\n",
              "      <td>0.012788</td>\n",
              "      <td>0.298857</td>\n",
              "    </tr>\n",
              "    <tr>\n",
              "      <th>4</th>\n",
              "      <td>0.012788</td>\n",
              "      <td>0.011904</td>\n",
              "      <td>0.008424</td>\n",
              "      <td>0.011842</td>\n",
              "      <td>0.275184</td>\n",
              "    </tr>\n",
              "    <tr>\n",
              "      <th>...</th>\n",
              "      <td>...</td>\n",
              "      <td>...</td>\n",
              "      <td>...</td>\n",
              "      <td>...</td>\n",
              "      <td>...</td>\n",
              "    </tr>\n",
              "    <tr>\n",
              "      <th>1917</th>\n",
              "      <td>0.341048</td>\n",
              "      <td>0.341074</td>\n",
              "      <td>0.346118</td>\n",
              "      <td>0.338916</td>\n",
              "      <td>0.003265</td>\n",
              "    </tr>\n",
              "    <tr>\n",
              "      <th>1918</th>\n",
              "      <td>0.338916</td>\n",
              "      <td>0.338978</td>\n",
              "      <td>0.347178</td>\n",
              "      <td>0.341161</td>\n",
              "      <td>0.002776</td>\n",
              "    </tr>\n",
              "    <tr>\n",
              "      <th>1919</th>\n",
              "      <td>0.341161</td>\n",
              "      <td>0.340413</td>\n",
              "      <td>0.331414</td>\n",
              "      <td>0.324135</td>\n",
              "      <td>0.008327</td>\n",
              "    </tr>\n",
              "    <tr>\n",
              "      <th>1920</th>\n",
              "      <td>0.324135</td>\n",
              "      <td>0.321671</td>\n",
              "      <td>0.327573</td>\n",
              "      <td>0.321953</td>\n",
              "      <td>0.002857</td>\n",
              "    </tr>\n",
              "    <tr>\n",
              "      <th>1921</th>\n",
              "      <td>0.321915</td>\n",
              "      <td>0.318676</td>\n",
              "      <td>0.329181</td>\n",
              "      <td>0.320200</td>\n",
              "      <td>0.024653</td>\n",
              "    </tr>\n",
              "  </tbody>\n",
              "</table>\n",
              "<p>1922 rows × 5 columns</p>\n",
              "</div>\n",
              "      <button class=\"colab-df-convert\" onclick=\"convertToInteractive('df-65a85255-0e2f-4c73-8473-a02e70280104')\"\n",
              "              title=\"Convert this dataframe to an interactive table.\"\n",
              "              style=\"display:none;\">\n",
              "        \n",
              "  <svg xmlns=\"http://www.w3.org/2000/svg\" height=\"24px\"viewBox=\"0 0 24 24\"\n",
              "       width=\"24px\">\n",
              "    <path d=\"M0 0h24v24H0V0z\" fill=\"none\"/>\n",
              "    <path d=\"M18.56 5.44l.94 2.06.94-2.06 2.06-.94-2.06-.94-.94-2.06-.94 2.06-2.06.94zm-11 1L8.5 8.5l.94-2.06 2.06-.94-2.06-.94L8.5 2.5l-.94 2.06-2.06.94zm10 10l.94 2.06.94-2.06 2.06-.94-2.06-.94-.94-2.06-.94 2.06-2.06.94z\"/><path d=\"M17.41 7.96l-1.37-1.37c-.4-.4-.92-.59-1.43-.59-.52 0-1.04.2-1.43.59L10.3 9.45l-7.72 7.72c-.78.78-.78 2.05 0 2.83L4 21.41c.39.39.9.59 1.41.59.51 0 1.02-.2 1.41-.59l7.78-7.78 2.81-2.81c.8-.78.8-2.07 0-2.86zM5.41 20L4 18.59l7.72-7.72 1.47 1.35L5.41 20z\"/>\n",
              "  </svg>\n",
              "      </button>\n",
              "      \n",
              "  <style>\n",
              "    .colab-df-container {\n",
              "      display:flex;\n",
              "      flex-wrap:wrap;\n",
              "      gap: 12px;\n",
              "    }\n",
              "\n",
              "    .colab-df-convert {\n",
              "      background-color: #E8F0FE;\n",
              "      border: none;\n",
              "      border-radius: 50%;\n",
              "      cursor: pointer;\n",
              "      display: none;\n",
              "      fill: #1967D2;\n",
              "      height: 32px;\n",
              "      padding: 0 0 0 0;\n",
              "      width: 32px;\n",
              "    }\n",
              "\n",
              "    .colab-df-convert:hover {\n",
              "      background-color: #E2EBFA;\n",
              "      box-shadow: 0px 1px 2px rgba(60, 64, 67, 0.3), 0px 1px 3px 1px rgba(60, 64, 67, 0.15);\n",
              "      fill: #174EA6;\n",
              "    }\n",
              "\n",
              "    [theme=dark] .colab-df-convert {\n",
              "      background-color: #3B4455;\n",
              "      fill: #D2E3FC;\n",
              "    }\n",
              "\n",
              "    [theme=dark] .colab-df-convert:hover {\n",
              "      background-color: #434B5C;\n",
              "      box-shadow: 0px 1px 3px 1px rgba(0, 0, 0, 0.15);\n",
              "      filter: drop-shadow(0px 1px 2px rgba(0, 0, 0, 0.3));\n",
              "      fill: #FFFFFF;\n",
              "    }\n",
              "  </style>\n",
              "\n",
              "      <script>\n",
              "        const buttonEl =\n",
              "          document.querySelector('#df-65a85255-0e2f-4c73-8473-a02e70280104 button.colab-df-convert');\n",
              "        buttonEl.style.display =\n",
              "          google.colab.kernel.accessAllowed ? 'block' : 'none';\n",
              "\n",
              "        async function convertToInteractive(key) {\n",
              "          const element = document.querySelector('#df-65a85255-0e2f-4c73-8473-a02e70280104');\n",
              "          const dataTable =\n",
              "            await google.colab.kernel.invokeFunction('convertToInteractive',\n",
              "                                                     [key], {});\n",
              "          if (!dataTable) return;\n",
              "\n",
              "          const docLinkHtml = 'Like what you see? Visit the ' +\n",
              "            '<a target=\"_blank\" href=https://colab.research.google.com/notebooks/data_table.ipynb>data table notebook</a>'\n",
              "            + ' to learn more about interactive tables.';\n",
              "          element.innerHTML = '';\n",
              "          dataTable['output_type'] = 'display_data';\n",
              "          await google.colab.output.renderOutput(dataTable, element);\n",
              "          const docLink = document.createElement('div');\n",
              "          docLink.innerHTML = docLinkHtml;\n",
              "          element.appendChild(docLink);\n",
              "        }\n",
              "      </script>\n",
              "    </div>\n",
              "  </div>\n",
              "  "
            ]
          },
          "metadata": {},
          "execution_count": 6
        }
      ]
    },
    {
      "cell_type": "markdown",
      "source": [
        "## 다수의 특징을 이용한 dataset 구성하기 "
      ],
      "metadata": {
        "id": "B2wNGE4q_FAA"
      }
    },
    {
      "cell_type": "markdown",
      "source": [
        "전 n일치의 open, high, low, volume 데이터를 기준으로 오늘의 \bclose을 예측하자."
      ],
      "metadata": {
        "id": "98h6T5Nc_izB"
      }
    },
    {
      "cell_type": "code",
      "source": [
        "window_size=5\n",
        "nshift=1\n",
        "\n",
        "df_t = df_scaled[:10]\n",
        "\n",
        "ds_x = tf.data.Dataset.from_tensor_slices(df_t[['Open','High','Low','Volume']])\n",
        "ds_x = ds_x.window(window_size, stride=1, shift=nshift, drop_remainder=True)\n",
        "ds_x = ds_x.flat_map(lambda w: w.batch(window_size))\n",
        "\n",
        "ds_y = tf.data.Dataset.from_tensor_slices(df_t['Close'][window_size:])\n",
        "\n",
        "ds_x, ds_y\n",
        "\n",
        "train_data = tf.data.Dataset.zip((ds_x, ds_y)).batch(32)"
      ],
      "metadata": {
        "id": "wTHd5_dN_Iug"
      },
      "execution_count": 87,
      "outputs": []
    },
    {
      "cell_type": "code",
      "source": [
        "for x, y in train_data.take(1):\n",
        "  print(x)\n",
        "  print()\n",
        "  print(y)"
      ],
      "metadata": {
        "colab": {
          "base_uri": "https://localhost:8080/"
        },
        "id": "CXZoXBQeC_h4",
        "outputId": "71a02c42-763c-4194-f0e2-f1005ca49100"
      },
      "execution_count": 88,
      "outputs": [
        {
          "output_type": "stream",
          "name": "stdout",
          "text": [
            "tf.Tensor(\n",
            "[[[0.01123709 0.01181667 0.01635055 0.17583673]\n",
            "  [0.01252349 0.02470645 0.01794603 0.28277551]\n",
            "  [0.0247443  0.03126989 0.01661859 0.29281633]\n",
            "  [0.02504698 0.02328396 0.01404028 0.29885714]\n",
            "  [0.01278834 0.01190402 0.00842417 0.27518367]]\n",
            "\n",
            " [[0.01252349 0.02470645 0.01794603 0.28277551]\n",
            "  [0.0247443  0.03126989 0.01661859 0.29281633]\n",
            "  [0.02504698 0.02328396 0.01404028 0.29885714]\n",
            "  [0.01278834 0.01190402 0.00842417 0.27518367]\n",
            "  [0.01184245 0.01330156 0.01340209 0.18195918]]\n",
            "\n",
            " [[0.0247443  0.03126989 0.01661859 0.29281633]\n",
            "  [0.02504698 0.02328396 0.01404028 0.29885714]\n",
            "  [0.01278834 0.01190402 0.00842417 0.27518367]\n",
            "  [0.01184245 0.01330156 0.01340209 0.18195918]\n",
            "  [0.01180462 0.01255288 0.0148827  0.17159184]]\n",
            "\n",
            " [[0.02504698 0.02328396 0.01404028 0.29885714]\n",
            "  [0.01278834 0.01190402 0.00842417 0.27518367]\n",
            "  [0.01184245 0.01330156 0.01340209 0.18195918]\n",
            "  [0.01180462 0.01255288 0.0148827  0.17159184]\n",
            "  [0.01252349 0.01205376 0.01659306 0.16106122]]\n",
            "\n",
            " [[0.01278834 0.01190402 0.00842417 0.27518367]\n",
            "  [0.01184245 0.01330156 0.01340209 0.18195918]\n",
            "  [0.01180462 0.01255288 0.0148827  0.17159184]\n",
            "  [0.01252349 0.01205376 0.01659306 0.16106122]\n",
            "  [0.01174156 0.01025692 0.01484441 0.19028571]]], shape=(5, 5, 4), dtype=float64)\n",
            "\n",
            "tf.Tensor([0.01180462 0.01252349 0.01174156 0.01036688 0.01171634], shape=(5,), dtype=float64)\n"
          ]
        }
      ]
    },
    {
      "cell_type": "code",
      "source": [
        "df_t"
      ],
      "metadata": {
        "colab": {
          "base_uri": "https://localhost:8080/",
          "height": 363
        },
        "id": "A8z7csugL_z8",
        "outputId": "485eb3dd-31a0-434c-cad5-56dcd4270836"
      },
      "execution_count": 86,
      "outputs": [
        {
          "output_type": "execute_result",
          "data": {
            "text/plain": [
              "       Open      High       Low     Close    Volume\n",
              "0  0.011237  0.011817  0.016351  0.012523  0.175837\n",
              "1  0.012523  0.024706  0.017946  0.024744  0.282776\n",
              "2  0.024744  0.031270  0.016619  0.025047  0.292816\n",
              "3  0.025047  0.023284  0.014040  0.012788  0.298857\n",
              "4  0.012788  0.011904  0.008424  0.011842  0.275184\n",
              "5  0.011842  0.013302  0.013402  0.011805  0.181959\n",
              "6  0.011805  0.012553  0.014883  0.012523  0.171592\n",
              "7  0.012523  0.012054  0.016593  0.011742  0.161061\n",
              "8  0.011742  0.010257  0.014844  0.010367  0.190286\n",
              "9  0.010367  0.010282  0.015700  0.011716  0.117959"
            ],
            "text/html": [
              "\n",
              "  <div id=\"df-5d2c1a77-88af-4049-9490-7c5caa5eba27\">\n",
              "    <div class=\"colab-df-container\">\n",
              "      <div>\n",
              "<style scoped>\n",
              "    .dataframe tbody tr th:only-of-type {\n",
              "        vertical-align: middle;\n",
              "    }\n",
              "\n",
              "    .dataframe tbody tr th {\n",
              "        vertical-align: top;\n",
              "    }\n",
              "\n",
              "    .dataframe thead th {\n",
              "        text-align: right;\n",
              "    }\n",
              "</style>\n",
              "<table border=\"1\" class=\"dataframe\">\n",
              "  <thead>\n",
              "    <tr style=\"text-align: right;\">\n",
              "      <th></th>\n",
              "      <th>Open</th>\n",
              "      <th>High</th>\n",
              "      <th>Low</th>\n",
              "      <th>Close</th>\n",
              "      <th>Volume</th>\n",
              "    </tr>\n",
              "  </thead>\n",
              "  <tbody>\n",
              "    <tr>\n",
              "      <th>0</th>\n",
              "      <td>0.011237</td>\n",
              "      <td>0.011817</td>\n",
              "      <td>0.016351</td>\n",
              "      <td>0.012523</td>\n",
              "      <td>0.175837</td>\n",
              "    </tr>\n",
              "    <tr>\n",
              "      <th>1</th>\n",
              "      <td>0.012523</td>\n",
              "      <td>0.024706</td>\n",
              "      <td>0.017946</td>\n",
              "      <td>0.024744</td>\n",
              "      <td>0.282776</td>\n",
              "    </tr>\n",
              "    <tr>\n",
              "      <th>2</th>\n",
              "      <td>0.024744</td>\n",
              "      <td>0.031270</td>\n",
              "      <td>0.016619</td>\n",
              "      <td>0.025047</td>\n",
              "      <td>0.292816</td>\n",
              "    </tr>\n",
              "    <tr>\n",
              "      <th>3</th>\n",
              "      <td>0.025047</td>\n",
              "      <td>0.023284</td>\n",
              "      <td>0.014040</td>\n",
              "      <td>0.012788</td>\n",
              "      <td>0.298857</td>\n",
              "    </tr>\n",
              "    <tr>\n",
              "      <th>4</th>\n",
              "      <td>0.012788</td>\n",
              "      <td>0.011904</td>\n",
              "      <td>0.008424</td>\n",
              "      <td>0.011842</td>\n",
              "      <td>0.275184</td>\n",
              "    </tr>\n",
              "    <tr>\n",
              "      <th>5</th>\n",
              "      <td>0.011842</td>\n",
              "      <td>0.013302</td>\n",
              "      <td>0.013402</td>\n",
              "      <td>0.011805</td>\n",
              "      <td>0.181959</td>\n",
              "    </tr>\n",
              "    <tr>\n",
              "      <th>6</th>\n",
              "      <td>0.011805</td>\n",
              "      <td>0.012553</td>\n",
              "      <td>0.014883</td>\n",
              "      <td>0.012523</td>\n",
              "      <td>0.171592</td>\n",
              "    </tr>\n",
              "    <tr>\n",
              "      <th>7</th>\n",
              "      <td>0.012523</td>\n",
              "      <td>0.012054</td>\n",
              "      <td>0.016593</td>\n",
              "      <td>0.011742</td>\n",
              "      <td>0.161061</td>\n",
              "    </tr>\n",
              "    <tr>\n",
              "      <th>8</th>\n",
              "      <td>0.011742</td>\n",
              "      <td>0.010257</td>\n",
              "      <td>0.014844</td>\n",
              "      <td>0.010367</td>\n",
              "      <td>0.190286</td>\n",
              "    </tr>\n",
              "    <tr>\n",
              "      <th>9</th>\n",
              "      <td>0.010367</td>\n",
              "      <td>0.010282</td>\n",
              "      <td>0.015700</td>\n",
              "      <td>0.011716</td>\n",
              "      <td>0.117959</td>\n",
              "    </tr>\n",
              "  </tbody>\n",
              "</table>\n",
              "</div>\n",
              "      <button class=\"colab-df-convert\" onclick=\"convertToInteractive('df-5d2c1a77-88af-4049-9490-7c5caa5eba27')\"\n",
              "              title=\"Convert this dataframe to an interactive table.\"\n",
              "              style=\"display:none;\">\n",
              "        \n",
              "  <svg xmlns=\"http://www.w3.org/2000/svg\" height=\"24px\"viewBox=\"0 0 24 24\"\n",
              "       width=\"24px\">\n",
              "    <path d=\"M0 0h24v24H0V0z\" fill=\"none\"/>\n",
              "    <path d=\"M18.56 5.44l.94 2.06.94-2.06 2.06-.94-2.06-.94-.94-2.06-.94 2.06-2.06.94zm-11 1L8.5 8.5l.94-2.06 2.06-.94-2.06-.94L8.5 2.5l-.94 2.06-2.06.94zm10 10l.94 2.06.94-2.06 2.06-.94-2.06-.94-.94-2.06-.94 2.06-2.06.94z\"/><path d=\"M17.41 7.96l-1.37-1.37c-.4-.4-.92-.59-1.43-.59-.52 0-1.04.2-1.43.59L10.3 9.45l-7.72 7.72c-.78.78-.78 2.05 0 2.83L4 21.41c.39.39.9.59 1.41.59.51 0 1.02-.2 1.41-.59l7.78-7.78 2.81-2.81c.8-.78.8-2.07 0-2.86zM5.41 20L4 18.59l7.72-7.72 1.47 1.35L5.41 20z\"/>\n",
              "  </svg>\n",
              "      </button>\n",
              "      \n",
              "  <style>\n",
              "    .colab-df-container {\n",
              "      display:flex;\n",
              "      flex-wrap:wrap;\n",
              "      gap: 12px;\n",
              "    }\n",
              "\n",
              "    .colab-df-convert {\n",
              "      background-color: #E8F0FE;\n",
              "      border: none;\n",
              "      border-radius: 50%;\n",
              "      cursor: pointer;\n",
              "      display: none;\n",
              "      fill: #1967D2;\n",
              "      height: 32px;\n",
              "      padding: 0 0 0 0;\n",
              "      width: 32px;\n",
              "    }\n",
              "\n",
              "    .colab-df-convert:hover {\n",
              "      background-color: #E2EBFA;\n",
              "      box-shadow: 0px 1px 2px rgba(60, 64, 67, 0.3), 0px 1px 3px 1px rgba(60, 64, 67, 0.15);\n",
              "      fill: #174EA6;\n",
              "    }\n",
              "\n",
              "    [theme=dark] .colab-df-convert {\n",
              "      background-color: #3B4455;\n",
              "      fill: #D2E3FC;\n",
              "    }\n",
              "\n",
              "    [theme=dark] .colab-df-convert:hover {\n",
              "      background-color: #434B5C;\n",
              "      box-shadow: 0px 1px 3px 1px rgba(0, 0, 0, 0.15);\n",
              "      filter: drop-shadow(0px 1px 2px rgba(0, 0, 0, 0.3));\n",
              "      fill: #FFFFFF;\n",
              "    }\n",
              "  </style>\n",
              "\n",
              "      <script>\n",
              "        const buttonEl =\n",
              "          document.querySelector('#df-5d2c1a77-88af-4049-9490-7c5caa5eba27 button.colab-df-convert');\n",
              "        buttonEl.style.display =\n",
              "          google.colab.kernel.accessAllowed ? 'block' : 'none';\n",
              "\n",
              "        async function convertToInteractive(key) {\n",
              "          const element = document.querySelector('#df-5d2c1a77-88af-4049-9490-7c5caa5eba27');\n",
              "          const dataTable =\n",
              "            await google.colab.kernel.invokeFunction('convertToInteractive',\n",
              "                                                     [key], {});\n",
              "          if (!dataTable) return;\n",
              "\n",
              "          const docLinkHtml = 'Like what you see? Visit the ' +\n",
              "            '<a target=\"_blank\" href=https://colab.research.google.com/notebooks/data_table.ipynb>data table notebook</a>'\n",
              "            + ' to learn more about interactive tables.';\n",
              "          element.innerHTML = '';\n",
              "          dataTable['output_type'] = 'display_data';\n",
              "          await google.colab.output.renderOutput(dataTable, element);\n",
              "          const docLink = document.createElement('div');\n",
              "          docLink.innerHTML = docLinkHtml;\n",
              "          element.appendChild(docLink);\n",
              "        }\n",
              "      </script>\n",
              "    </div>\n",
              "  </div>\n",
              "  "
            ]
          },
          "metadata": {},
          "execution_count": 86
        }
      ]
    },
    {
      "cell_type": "code",
      "source": [
        "def multi_feature_windowed_dataset(df, window_size, batch_size, shuffle, shuffle_buffer):\n",
        "  # df = tf.expand_dims(series, axis=-1)\n",
        "  df_x = df[['Open','High','Low','Volume']]\n",
        "  df_y = df[['Close']]\n",
        "  ds_x = tf.data.Dataset.from_tensor_slices(df_x)\n",
        "  ds_x = ds_x.window(window_size, stride=1, shift=1, drop_remainder=True)\n",
        "  ds_x = ds_x.flat_map(lambda w: w.batch(window_size))\n",
        "  ds_y = tf.data.Dataset.from_tensor_slices(df_y[window_size:])\n",
        "\n",
        "  ds = tf.data.Dataset.zip((ds_x, ds_y))\n",
        "  if shuffle:\n",
        "      ds = ds.shuffle(shuffle_buffer)\n",
        "\n",
        "  return ds.batch(batch_size).prefetch(1)"
      ],
      "metadata": {
        "id": "6OK41qy7EzSC"
      },
      "execution_count": 245,
      "outputs": []
    },
    {
      "cell_type": "code",
      "source": [
        "# 윈도우 사이즈\n",
        "window_size = 50\n",
        "# 배치 사이즈\n",
        "batch_size = 32\n",
        "# 셔플 사이즈\n",
        "shuffle_buffer = 1000\n",
        "\n",
        "train = df_scaled[:-500]\n",
        "valid = df_scaled[-500:]\n",
        "\n",
        "train_data = multi_feature_windowed_dataset(train, \n",
        "                             window_size=window_size, \n",
        "                             batch_size=batch_size,\n",
        "                             shuffle=True,\n",
        "                             shuffle_buffer=shuffle_buffer )\n",
        "\n",
        "test_data = multi_feature_windowed_dataset(valid, \n",
        "                             window_size=window_size, \n",
        "                             batch_size=batch_size,\n",
        "                             shuffle=False,\n",
        "                             shuffle_buffer=shuffle_buffer )"
      ],
      "metadata": {
        "id": "62cB9nNvF_PD"
      },
      "execution_count": 246,
      "outputs": []
    },
    {
      "cell_type": "code",
      "source": [
        "tdata=None\n",
        "for data in test_data.take(1):\n",
        "  print(f'데이터 셋(X) 구성(batch_zie, window_size, feature 갯수): {data[0].shape}')\n",
        "  print(f'데이터 셋(Y) 구성(batch_zie, window_size, feature 갯수): {data[1].shape}')\n",
        "  tdata = data"
      ],
      "metadata": {
        "colab": {
          "base_uri": "https://localhost:8080/"
        },
        "id": "QvQs9ighSpjE",
        "outputId": "48359927-8973-4b40-8acf-5ffc5940672e"
      },
      "execution_count": 244,
      "outputs": [
        {
          "output_type": "stream",
          "name": "stdout",
          "text": [
            "데이터 셋(X) 구성(batch_zie, window_size, feature 갯수): (32, 50, 4)\n",
            "데이터 셋(Y) 구성(batch_zie, window_size, feature 갯수): (32, 1)\n"
          ]
        }
      ]
    },
    {
      "cell_type": "markdown",
      "metadata": {
        "id": "H-YdTCYeMZmc"
      },
      "source": [
        "## Train Set, Validation Set 생성"
      ]
    },
    {
      "cell_type": "markdown",
      "metadata": {
        "id": "WRfGcPJET7Dq"
      },
      "source": [
        "Train Set / Validation Set 를 분할 합니다.\n",
        "\n",
        "- ~최근 500개: Train Set\n",
        "- 최근 500개~: Valid Set"
      ]
    },
    {
      "cell_type": "markdown",
      "metadata": {
        "id": "amk_ksmDMZmb"
      },
      "source": [
        "## Window Dataset Loader"
      ]
    },
    {
      "cell_type": "markdown",
      "metadata": {
        "id": "u9VGhKTIMZmQ"
      },
      "source": [
        "자세한 Dataset 활용법은 [블로그 링크](https://teddylee777.github.io/tensorflow/dataset-batch-window)를 참고해 보시고, 연습해보세요!\n",
        "\n",
        "- Dataset 구성에 대한 [유튜브](https://www.youtube.com/watch?v=NUMzrqxQ4zk)"
      ]
    },
    {
      "cell_type": "markdown",
      "metadata": {
        "id": "Y2k1dYQcMZmj"
      },
      "source": [
        "## 모델 정의 (Sequential)"
      ]
    },
    {
      "cell_type": "code",
      "source": [
        "model = Sequential([\n",
        "    # Conv1D( filters=32, kernel_size=5, \n",
        "    #        padding='causal', activation='relu', \n",
        "    #        input_shape=[window_size, 4]),\n",
        "    tf.keras.layers.GRU(128, input_shape=(window_size, 4)),\n",
        "    # GRU(16, activation='tanh'),\n",
        "    tf.keras.layers.Dense(16, activation=\"relu\"),\n",
        "    tf.keras.layers.Dense(1),\n",
        "])"
      ],
      "metadata": {
        "id": "MenwJuBo6cxR"
      },
      "execution_count": 252,
      "outputs": []
    },
    {
      "cell_type": "markdown",
      "metadata": {
        "id": "E1bif1TuUl1m"
      },
      "source": [
        "모델의 구조 요약을 확인합니다."
      ]
    },
    {
      "cell_type": "code",
      "metadata": {
        "id": "VgET749LMZmt",
        "colab": {
          "base_uri": "https://localhost:8080/"
        },
        "outputId": "a7c80aaf-3778-411a-8c7a-4f69f0f2a23c"
      },
      "source": [
        "model.summary()"
      ],
      "execution_count": 253,
      "outputs": [
        {
          "output_type": "stream",
          "name": "stdout",
          "text": [
            "Model: \"sequential_12\"\n",
            "_________________________________________________________________\n",
            " Layer (type)                Output Shape              Param #   \n",
            "=================================================================\n",
            " gru_12 (GRU)                (None, 128)               51456     \n",
            "                                                                 \n",
            " dense_24 (Dense)            (None, 16)                2064      \n",
            "                                                                 \n",
            " dense_25 (Dense)            (None, 1)                 17        \n",
            "                                                                 \n",
            "=================================================================\n",
            "Total params: 53,537\n",
            "Trainable params: 53,537\n",
            "Non-trainable params: 0\n",
            "_________________________________________________________________\n"
          ]
        }
      ]
    },
    {
      "cell_type": "markdown",
      "metadata": {
        "id": "FXKGQ3rmMZmv"
      },
      "source": [
        "## 컴파일 (compile)"
      ]
    },
    {
      "cell_type": "markdown",
      "metadata": {
        "id": "jZ1ETr6mUuqB"
      },
      "source": [
        "**Optimizer**의 `learning_rate`을 별도 설정합니다."
      ]
    },
    {
      "cell_type": "markdown",
      "metadata": {
        "id": "ICeNa8kQVDxz"
      },
      "source": [
        "model.compile()시 우리가 튜닝한 **optimizer**와 **loss**를 활용합니다."
      ]
    },
    {
      "cell_type": "code",
      "metadata": {
        "id": "7NrbT-cAMZm2"
      },
      "source": [
        "model.compile(loss='mse',\n",
        "              optimizer=Adam(learning_rate=0.00005),\n",
        "              metrics=[\"mse\"])"
      ],
      "execution_count": 254,
      "outputs": []
    },
    {
      "cell_type": "markdown",
      "metadata": {
        "id": "yJ0gsuoqSv7z"
      },
      "source": [
        "## ModelCheckpoint: 체크포인트 생성"
      ]
    },
    {
      "cell_type": "markdown",
      "metadata": {
        "id": "oXHmDZ2aSx4O"
      },
      "source": [
        "`val_loss` 기준으로 epoch 마다 최적의 모델을 저장하기 위하여, ModelCheckpoint를 만듭니다.\n",
        "* `checkpoint_path`는 모델이 저장될 파일 명을 설정합니다.\n",
        "* `ModelCheckpoint`을 선언하고, 적절한 옵션 값을 지정합니다."
      ]
    },
    {
      "cell_type": "code",
      "metadata": {
        "id": "O1JJZyg0MZm5"
      },
      "source": [
        "checkpoint_path = 'tmp_checkpoint.ckpt'\n",
        "checkpoint = ModelCheckpoint(checkpoint_path, \n",
        "                             save_weights_only=True, \n",
        "                             save_best_only=True, \n",
        "                             monitor='val_loss',\n",
        "                             verbose=1)"
      ],
      "execution_count": 255,
      "outputs": []
    },
    {
      "cell_type": "markdown",
      "metadata": {
        "id": "1leCk2zKMZm7"
      },
      "source": [
        "## 학습 (fit)"
      ]
    },
    {
      "cell_type": "code",
      "metadata": {
        "id": "lrDA4DzbMZm8",
        "colab": {
          "base_uri": "https://localhost:8080/"
        },
        "outputId": "7667a3a8-d5a0-4e0f-c8e2-b0f068f468ae"
      },
      "source": [
        "model.fit(train_data, \n",
        "          validation_data=(test_data), \n",
        "          epochs=200, \n",
        "          callbacks=[checkpoint],\n",
        "          )"
      ],
      "execution_count": 263,
      "outputs": [
        {
          "output_type": "stream",
          "name": "stdout",
          "text": [
            "Epoch 1/200\n",
            "     39/Unknown - 0s 7ms/step - loss: 1.3457e-04 - mse: 1.3457e-04\n",
            "Epoch 1: val_loss did not improve from 0.00056\n",
            "43/43 [==============================] - 1s 10ms/step - loss: 1.3685e-04 - mse: 1.3685e-04 - val_loss: 6.6568e-04 - val_mse: 6.6568e-04\n",
            "Epoch 2/200\n",
            "35/43 [=======================>......] - ETA: 0s - loss: 1.3888e-04 - mse: 1.3888e-04\n",
            "Epoch 2: val_loss did not improve from 0.00056\n",
            "43/43 [==============================] - 1s 9ms/step - loss: 1.4801e-04 - mse: 1.4801e-04 - val_loss: 7.1042e-04 - val_mse: 7.1042e-04\n",
            "Epoch 3/200\n",
            "36/43 [========================>.....] - ETA: 0s - loss: 1.2839e-04 - mse: 1.2839e-04\n",
            "Epoch 3: val_loss improved from 0.00056 to 0.00056, saving model to tmp_checkpoint.ckpt\n",
            "43/43 [==============================] - 1s 9ms/step - loss: 1.4031e-04 - mse: 1.4031e-04 - val_loss: 5.6266e-04 - val_mse: 5.6266e-04\n",
            "Epoch 4/200\n",
            "35/43 [=======================>......] - ETA: 0s - loss: 1.3996e-04 - mse: 1.3996e-04\n",
            "Epoch 4: val_loss did not improve from 0.00056\n",
            "43/43 [==============================] - 1s 9ms/step - loss: 1.3628e-04 - mse: 1.3628e-04 - val_loss: 6.0689e-04 - val_mse: 6.0689e-04\n",
            "Epoch 5/200\n",
            "36/43 [========================>.....] - ETA: 0s - loss: 1.3427e-04 - mse: 1.3427e-04\n",
            "Epoch 5: val_loss did not improve from 0.00056\n",
            "43/43 [==============================] - 0s 8ms/step - loss: 1.3925e-04 - mse: 1.3925e-04 - val_loss: 5.6800e-04 - val_mse: 5.6800e-04\n",
            "Epoch 6/200\n",
            "40/43 [==========================>...] - ETA: 0s - loss: 1.2693e-04 - mse: 1.2693e-04\n",
            "Epoch 6: val_loss improved from 0.00056 to 0.00055, saving model to tmp_checkpoint.ckpt\n",
            "43/43 [==============================] - 1s 8ms/step - loss: 1.3877e-04 - mse: 1.3877e-04 - val_loss: 5.5407e-04 - val_mse: 5.5407e-04\n",
            "Epoch 7/200\n",
            "36/43 [========================>.....] - ETA: 0s - loss: 1.4121e-04 - mse: 1.4121e-04\n",
            "Epoch 7: val_loss did not improve from 0.00055\n",
            "43/43 [==============================] - 1s 9ms/step - loss: 1.3850e-04 - mse: 1.3850e-04 - val_loss: 5.6029e-04 - val_mse: 5.6029e-04\n",
            "Epoch 8/200\n",
            "38/43 [=========================>....] - ETA: 0s - loss: 1.3742e-04 - mse: 1.3742e-04\n",
            "Epoch 8: val_loss did not improve from 0.00055\n",
            "43/43 [==============================] - 0s 8ms/step - loss: 1.4696e-04 - mse: 1.4696e-04 - val_loss: 6.4189e-04 - val_mse: 6.4189e-04\n",
            "Epoch 9/200\n",
            "35/43 [=======================>......] - ETA: 0s - loss: 1.3024e-04 - mse: 1.3024e-04\n",
            "Epoch 9: val_loss did not improve from 0.00055\n",
            "43/43 [==============================] - 0s 9ms/step - loss: 1.3629e-04 - mse: 1.3629e-04 - val_loss: 5.9606e-04 - val_mse: 5.9606e-04\n",
            "Epoch 10/200\n",
            "35/43 [=======================>......] - ETA: 0s - loss: 1.4233e-04 - mse: 1.4233e-04\n",
            "Epoch 10: val_loss did not improve from 0.00055\n",
            "43/43 [==============================] - 0s 9ms/step - loss: 1.3382e-04 - mse: 1.3382e-04 - val_loss: 6.4898e-04 - val_mse: 6.4898e-04\n",
            "Epoch 11/200\n",
            "39/43 [==========================>...] - ETA: 0s - loss: 1.3507e-04 - mse: 1.3507e-04\n",
            "Epoch 11: val_loss did not improve from 0.00055\n",
            "43/43 [==============================] - 0s 8ms/step - loss: 1.3362e-04 - mse: 1.3362e-04 - val_loss: 5.7546e-04 - val_mse: 5.7546e-04\n",
            "Epoch 12/200\n",
            "37/43 [========================>.....] - ETA: 0s - loss: 1.3328e-04 - mse: 1.3328e-04\n",
            "Epoch 12: val_loss did not improve from 0.00055\n",
            "43/43 [==============================] - 0s 8ms/step - loss: 1.3916e-04 - mse: 1.3916e-04 - val_loss: 7.1445e-04 - val_mse: 7.1445e-04\n",
            "Epoch 13/200\n",
            "38/43 [=========================>....] - ETA: 0s - loss: 1.2465e-04 - mse: 1.2465e-04\n",
            "Epoch 13: val_loss did not improve from 0.00055\n",
            "43/43 [==============================] - 0s 8ms/step - loss: 1.3553e-04 - mse: 1.3553e-04 - val_loss: 6.8832e-04 - val_mse: 6.8832e-04\n",
            "Epoch 14/200\n",
            "40/43 [==========================>...] - ETA: 0s - loss: 1.4032e-04 - mse: 1.4032e-04\n",
            "Epoch 14: val_loss did not improve from 0.00055\n",
            "43/43 [==============================] - 0s 8ms/step - loss: 1.3979e-04 - mse: 1.3979e-04 - val_loss: 6.3930e-04 - val_mse: 6.3930e-04\n",
            "Epoch 15/200\n",
            "35/43 [=======================>......] - ETA: 0s - loss: 1.3006e-04 - mse: 1.3006e-04\n",
            "Epoch 15: val_loss did not improve from 0.00055\n",
            "43/43 [==============================] - 1s 9ms/step - loss: 1.3245e-04 - mse: 1.3245e-04 - val_loss: 5.6135e-04 - val_mse: 5.6135e-04\n",
            "Epoch 16/200\n",
            "37/43 [========================>.....] - ETA: 0s - loss: 1.4029e-04 - mse: 1.4029e-04\n",
            "Epoch 16: val_loss did not improve from 0.00055\n",
            "43/43 [==============================] - 0s 8ms/step - loss: 1.3299e-04 - mse: 1.3299e-04 - val_loss: 5.9610e-04 - val_mse: 5.9610e-04\n",
            "Epoch 17/200\n",
            "34/43 [======================>.......] - ETA: 0s - loss: 1.1956e-04 - mse: 1.1956e-04\n",
            "Epoch 17: val_loss did not improve from 0.00055\n",
            "43/43 [==============================] - 1s 9ms/step - loss: 1.3424e-04 - mse: 1.3424e-04 - val_loss: 6.1302e-04 - val_mse: 6.1302e-04\n",
            "Epoch 18/200\n",
            "38/43 [=========================>....] - ETA: 0s - loss: 1.2651e-04 - mse: 1.2651e-04\n",
            "Epoch 18: val_loss did not improve from 0.00055\n",
            "43/43 [==============================] - 0s 8ms/step - loss: 1.3295e-04 - mse: 1.3295e-04 - val_loss: 5.9230e-04 - val_mse: 5.9230e-04\n",
            "Epoch 19/200\n",
            "35/43 [=======================>......] - ETA: 0s - loss: 1.3879e-04 - mse: 1.3879e-04\n",
            "Epoch 19: val_loss did not improve from 0.00055\n",
            "43/43 [==============================] - 1s 9ms/step - loss: 1.3727e-04 - mse: 1.3727e-04 - val_loss: 6.3294e-04 - val_mse: 6.3294e-04\n",
            "Epoch 20/200\n",
            "35/43 [=======================>......] - ETA: 0s - loss: 1.3871e-04 - mse: 1.3871e-04\n",
            "Epoch 20: val_loss did not improve from 0.00055\n",
            "43/43 [==============================] - 0s 9ms/step - loss: 1.3618e-04 - mse: 1.3618e-04 - val_loss: 5.9051e-04 - val_mse: 5.9051e-04\n",
            "Epoch 21/200\n",
            "37/43 [========================>.....] - ETA: 0s - loss: 1.1357e-04 - mse: 1.1357e-04\n",
            "Epoch 21: val_loss did not improve from 0.00055\n",
            "43/43 [==============================] - 1s 9ms/step - loss: 1.3495e-04 - mse: 1.3495e-04 - val_loss: 6.7974e-04 - val_mse: 6.7974e-04\n",
            "Epoch 22/200\n",
            "40/43 [==========================>...] - ETA: 0s - loss: 1.3722e-04 - mse: 1.3722e-04\n",
            "Epoch 22: val_loss did not improve from 0.00055\n",
            "43/43 [==============================] - 0s 8ms/step - loss: 1.3445e-04 - mse: 1.3445e-04 - val_loss: 5.8969e-04 - val_mse: 5.8969e-04\n",
            "Epoch 23/200\n",
            "39/43 [==========================>...] - ETA: 0s - loss: 1.3082e-04 - mse: 1.3082e-04\n",
            "Epoch 23: val_loss did not improve from 0.00055\n",
            "43/43 [==============================] - 0s 8ms/step - loss: 1.3461e-04 - mse: 1.3461e-04 - val_loss: 5.5757e-04 - val_mse: 5.5757e-04\n",
            "Epoch 24/200\n",
            "38/43 [=========================>....] - ETA: 0s - loss: 1.2106e-04 - mse: 1.2106e-04\n",
            "Epoch 24: val_loss did not improve from 0.00055\n",
            "43/43 [==============================] - 0s 8ms/step - loss: 1.3461e-04 - mse: 1.3461e-04 - val_loss: 6.8269e-04 - val_mse: 6.8269e-04\n",
            "Epoch 25/200\n",
            "35/43 [=======================>......] - ETA: 0s - loss: 1.4966e-04 - mse: 1.4966e-04\n",
            "Epoch 25: val_loss did not improve from 0.00055\n",
            "43/43 [==============================] - 1s 9ms/step - loss: 1.3708e-04 - mse: 1.3708e-04 - val_loss: 7.8512e-04 - val_mse: 7.8512e-04\n",
            "Epoch 26/200\n",
            "40/43 [==========================>...] - ETA: 0s - loss: 1.3729e-04 - mse: 1.3729e-04\n",
            "Epoch 26: val_loss did not improve from 0.00055\n",
            "43/43 [==============================] - 1s 9ms/step - loss: 1.3680e-04 - mse: 1.3680e-04 - val_loss: 6.1617e-04 - val_mse: 6.1617e-04\n",
            "Epoch 27/200\n",
            "36/43 [========================>.....] - ETA: 0s - loss: 1.2031e-04 - mse: 1.2031e-04\n",
            "Epoch 27: val_loss did not improve from 0.00055\n",
            "43/43 [==============================] - 0s 9ms/step - loss: 1.3166e-04 - mse: 1.3166e-04 - val_loss: 5.8122e-04 - val_mse: 5.8122e-04\n",
            "Epoch 28/200\n",
            "36/43 [========================>.....] - ETA: 0s - loss: 1.3822e-04 - mse: 1.3822e-04\n",
            "Epoch 28: val_loss did not improve from 0.00055\n",
            "43/43 [==============================] - 0s 9ms/step - loss: 1.3703e-04 - mse: 1.3703e-04 - val_loss: 5.9159e-04 - val_mse: 5.9159e-04\n",
            "Epoch 29/200\n",
            "36/43 [========================>.....] - ETA: 0s - loss: 1.2043e-04 - mse: 1.2043e-04\n",
            "Epoch 29: val_loss improved from 0.00055 to 0.00055, saving model to tmp_checkpoint.ckpt\n",
            "43/43 [==============================] - 1s 9ms/step - loss: 1.3505e-04 - mse: 1.3505e-04 - val_loss: 5.4943e-04 - val_mse: 5.4943e-04\n",
            "Epoch 30/200\n",
            "38/43 [=========================>....] - ETA: 0s - loss: 1.3385e-04 - mse: 1.3385e-04\n",
            "Epoch 30: val_loss did not improve from 0.00055\n",
            "43/43 [==============================] - 0s 8ms/step - loss: 1.3303e-04 - mse: 1.3303e-04 - val_loss: 5.7907e-04 - val_mse: 5.7907e-04\n",
            "Epoch 31/200\n",
            "37/43 [========================>.....] - ETA: 0s - loss: 1.3987e-04 - mse: 1.3987e-04\n",
            "Epoch 31: val_loss did not improve from 0.00055\n",
            "43/43 [==============================] - 1s 9ms/step - loss: 1.3870e-04 - mse: 1.3870e-04 - val_loss: 5.8157e-04 - val_mse: 5.8157e-04\n",
            "Epoch 32/200\n",
            "34/43 [======================>.......] - ETA: 0s - loss: 1.3867e-04 - mse: 1.3867e-04\n",
            "Epoch 32: val_loss did not improve from 0.00055\n",
            "43/43 [==============================] - 1s 9ms/step - loss: 1.3505e-04 - mse: 1.3505e-04 - val_loss: 6.8810e-04 - val_mse: 6.8810e-04\n",
            "Epoch 33/200\n",
            "41/43 [===========================>..] - ETA: 0s - loss: 1.3727e-04 - mse: 1.3727e-04\n",
            "Epoch 33: val_loss did not improve from 0.00055\n",
            "43/43 [==============================] - 1s 9ms/step - loss: 1.3485e-04 - mse: 1.3485e-04 - val_loss: 5.7748e-04 - val_mse: 5.7748e-04\n",
            "Epoch 34/200\n",
            "41/43 [===========================>..] - ETA: 0s - loss: 1.1906e-04 - mse: 1.1906e-04\n",
            "Epoch 34: val_loss did not improve from 0.00055\n",
            "43/43 [==============================] - 1s 9ms/step - loss: 1.3202e-04 - mse: 1.3202e-04 - val_loss: 5.8636e-04 - val_mse: 5.8636e-04\n",
            "Epoch 35/200\n",
            "39/43 [==========================>...] - ETA: 0s - loss: 1.3314e-04 - mse: 1.3314e-04\n",
            "Epoch 35: val_loss did not improve from 0.00055\n",
            "43/43 [==============================] - 1s 9ms/step - loss: 1.3021e-04 - mse: 1.3021e-04 - val_loss: 5.7795e-04 - val_mse: 5.7795e-04\n",
            "Epoch 36/200\n",
            "35/43 [=======================>......] - ETA: 0s - loss: 1.4021e-04 - mse: 1.4021e-04\n",
            "Epoch 36: val_loss did not improve from 0.00055\n",
            "43/43 [==============================] - 1s 9ms/step - loss: 1.3687e-04 - mse: 1.3687e-04 - val_loss: 6.0666e-04 - val_mse: 6.0666e-04\n",
            "Epoch 37/200\n",
            "43/43 [==============================] - ETA: 0s - loss: 1.3271e-04 - mse: 1.3271e-04\n",
            "Epoch 37: val_loss did not improve from 0.00055\n",
            "43/43 [==============================] - 1s 9ms/step - loss: 1.3271e-04 - mse: 1.3271e-04 - val_loss: 5.8515e-04 - val_mse: 5.8515e-04\n",
            "Epoch 38/200\n",
            "42/43 [============================>.] - ETA: 0s - loss: 1.3208e-04 - mse: 1.3208e-04\n",
            "Epoch 38: val_loss did not improve from 0.00055\n",
            "43/43 [==============================] - 1s 9ms/step - loss: 1.3095e-04 - mse: 1.3095e-04 - val_loss: 6.6231e-04 - val_mse: 6.6231e-04\n",
            "Epoch 39/200\n",
            "38/43 [=========================>....] - ETA: 0s - loss: 1.3778e-04 - mse: 1.3778e-04\n",
            "Epoch 39: val_loss did not improve from 0.00055\n",
            "43/43 [==============================] - 1s 8ms/step - loss: 1.3853e-04 - mse: 1.3853e-04 - val_loss: 6.2139e-04 - val_mse: 6.2139e-04\n",
            "Epoch 40/200\n",
            "36/43 [========================>.....] - ETA: 0s - loss: 1.0756e-04 - mse: 1.0756e-04\n",
            "Epoch 40: val_loss did not improve from 0.00055\n",
            "43/43 [==============================] - 1s 8ms/step - loss: 1.3659e-04 - mse: 1.3659e-04 - val_loss: 5.7129e-04 - val_mse: 5.7129e-04\n",
            "Epoch 41/200\n",
            "38/43 [=========================>....] - ETA: 0s - loss: 1.2915e-04 - mse: 1.2915e-04\n",
            "Epoch 41: val_loss did not improve from 0.00055\n",
            "43/43 [==============================] - 0s 8ms/step - loss: 1.3612e-04 - mse: 1.3612e-04 - val_loss: 5.5773e-04 - val_mse: 5.5773e-04\n",
            "Epoch 42/200\n",
            "36/43 [========================>.....] - ETA: 0s - loss: 1.2056e-04 - mse: 1.2056e-04\n",
            "Epoch 42: val_loss did not improve from 0.00055\n",
            "43/43 [==============================] - 1s 9ms/step - loss: 1.3129e-04 - mse: 1.3129e-04 - val_loss: 6.3478e-04 - val_mse: 6.3478e-04\n",
            "Epoch 43/200\n",
            "43/43 [==============================] - ETA: 0s - loss: 1.3045e-04 - mse: 1.3045e-04\n",
            "Epoch 43: val_loss did not improve from 0.00055\n",
            "43/43 [==============================] - 1s 9ms/step - loss: 1.3045e-04 - mse: 1.3045e-04 - val_loss: 6.2576e-04 - val_mse: 6.2576e-04\n",
            "Epoch 44/200\n",
            "43/43 [==============================] - ETA: 0s - loss: 1.3046e-04 - mse: 1.3046e-04\n",
            "Epoch 44: val_loss did not improve from 0.00055\n",
            "43/43 [==============================] - 1s 9ms/step - loss: 1.3046e-04 - mse: 1.3046e-04 - val_loss: 5.9236e-04 - val_mse: 5.9236e-04\n",
            "Epoch 45/200\n",
            "37/43 [========================>.....] - ETA: 0s - loss: 1.2522e-04 - mse: 1.2522e-04\n",
            "Epoch 45: val_loss did not improve from 0.00055\n",
            "43/43 [==============================] - 1s 9ms/step - loss: 1.2812e-04 - mse: 1.2812e-04 - val_loss: 7.1805e-04 - val_mse: 7.1805e-04\n",
            "Epoch 46/200\n",
            "43/43 [==============================] - ETA: 0s - loss: 1.2940e-04 - mse: 1.2940e-04\n",
            "Epoch 46: val_loss did not improve from 0.00055\n",
            "43/43 [==============================] - 1s 9ms/step - loss: 1.2940e-04 - mse: 1.2940e-04 - val_loss: 5.5117e-04 - val_mse: 5.5117e-04\n",
            "Epoch 47/200\n",
            "36/43 [========================>.....] - ETA: 0s - loss: 1.2804e-04 - mse: 1.2804e-04\n",
            "Epoch 47: val_loss improved from 0.00055 to 0.00054, saving model to tmp_checkpoint.ckpt\n",
            "43/43 [==============================] - 1s 9ms/step - loss: 1.3956e-04 - mse: 1.3956e-04 - val_loss: 5.4235e-04 - val_mse: 5.4235e-04\n",
            "Epoch 48/200\n",
            "36/43 [========================>.....] - ETA: 0s - loss: 1.2227e-04 - mse: 1.2227e-04\n",
            "Epoch 48: val_loss did not improve from 0.00054\n",
            "43/43 [==============================] - 1s 9ms/step - loss: 1.3352e-04 - mse: 1.3352e-04 - val_loss: 6.3073e-04 - val_mse: 6.3073e-04\n",
            "Epoch 49/200\n",
            "34/43 [======================>.......] - ETA: 0s - loss: 1.2683e-04 - mse: 1.2683e-04\n",
            "Epoch 49: val_loss did not improve from 0.00054\n",
            "43/43 [==============================] - 1s 9ms/step - loss: 1.3495e-04 - mse: 1.3495e-04 - val_loss: 5.6633e-04 - val_mse: 5.6633e-04\n",
            "Epoch 50/200\n",
            "41/43 [===========================>..] - ETA: 0s - loss: 1.3922e-04 - mse: 1.3922e-04\n",
            "Epoch 50: val_loss did not improve from 0.00054\n",
            "43/43 [==============================] - 1s 9ms/step - loss: 1.3782e-04 - mse: 1.3782e-04 - val_loss: 8.0206e-04 - val_mse: 8.0206e-04\n",
            "Epoch 51/200\n",
            "43/43 [==============================] - ETA: 0s - loss: 1.3416e-04 - mse: 1.3416e-04\n",
            "Epoch 51: val_loss did not improve from 0.00054\n",
            "43/43 [==============================] - 1s 9ms/step - loss: 1.3416e-04 - mse: 1.3416e-04 - val_loss: 5.5254e-04 - val_mse: 5.5254e-04\n",
            "Epoch 52/200\n",
            "37/43 [========================>.....] - ETA: 0s - loss: 1.3350e-04 - mse: 1.3350e-04\n",
            "Epoch 52: val_loss did not improve from 0.00054\n",
            "43/43 [==============================] - 1s 9ms/step - loss: 1.3705e-04 - mse: 1.3705e-04 - val_loss: 5.6879e-04 - val_mse: 5.6879e-04\n",
            "Epoch 53/200\n",
            "35/43 [=======================>......] - ETA: 0s - loss: 1.3306e-04 - mse: 1.3306e-04\n",
            "Epoch 53: val_loss did not improve from 0.00054\n",
            "43/43 [==============================] - 1s 9ms/step - loss: 1.3168e-04 - mse: 1.3168e-04 - val_loss: 5.4794e-04 - val_mse: 5.4794e-04\n",
            "Epoch 54/200\n",
            "35/43 [=======================>......] - ETA: 0s - loss: 1.2274e-04 - mse: 1.2274e-04\n",
            "Epoch 54: val_loss did not improve from 0.00054\n",
            "43/43 [==============================] - 1s 9ms/step - loss: 1.2843e-04 - mse: 1.2843e-04 - val_loss: 5.7480e-04 - val_mse: 5.7480e-04\n",
            "Epoch 55/200\n",
            "36/43 [========================>.....] - ETA: 0s - loss: 1.2735e-04 - mse: 1.2735e-04\n",
            "Epoch 55: val_loss did not improve from 0.00054\n",
            "43/43 [==============================] - 1s 9ms/step - loss: 1.3022e-04 - mse: 1.3022e-04 - val_loss: 7.3210e-04 - val_mse: 7.3210e-04\n",
            "Epoch 56/200\n",
            "34/43 [======================>.......] - ETA: 0s - loss: 1.2636e-04 - mse: 1.2636e-04\n",
            "Epoch 56: val_loss did not improve from 0.00054\n",
            "43/43 [==============================] - 1s 9ms/step - loss: 1.2780e-04 - mse: 1.2780e-04 - val_loss: 5.8778e-04 - val_mse: 5.8778e-04\n",
            "Epoch 57/200\n",
            "38/43 [=========================>....] - ETA: 0s - loss: 1.4069e-04 - mse: 1.4069e-04\n",
            "Epoch 57: val_loss did not improve from 0.00054\n",
            "43/43 [==============================] - 1s 9ms/step - loss: 1.3403e-04 - mse: 1.3403e-04 - val_loss: 5.6565e-04 - val_mse: 5.6565e-04\n",
            "Epoch 58/200\n",
            "34/43 [======================>.......] - ETA: 0s - loss: 1.2726e-04 - mse: 1.2726e-04\n",
            "Epoch 58: val_loss did not improve from 0.00054\n",
            "43/43 [==============================] - 1s 9ms/step - loss: 1.3083e-04 - mse: 1.3083e-04 - val_loss: 5.4713e-04 - val_mse: 5.4713e-04\n",
            "Epoch 59/200\n",
            "34/43 [======================>.......] - ETA: 0s - loss: 1.2613e-04 - mse: 1.2613e-04\n",
            "Epoch 59: val_loss did not improve from 0.00054\n",
            "43/43 [==============================] - 1s 9ms/step - loss: 1.2742e-04 - mse: 1.2742e-04 - val_loss: 5.8294e-04 - val_mse: 5.8294e-04\n",
            "Epoch 60/200\n",
            "41/43 [===========================>..] - ETA: 0s - loss: 1.3247e-04 - mse: 1.3247e-04\n",
            "Epoch 60: val_loss did not improve from 0.00054\n",
            "43/43 [==============================] - 1s 9ms/step - loss: 1.2930e-04 - mse: 1.2930e-04 - val_loss: 7.2397e-04 - val_mse: 7.2397e-04\n",
            "Epoch 61/200\n",
            "38/43 [=========================>....] - ETA: 0s - loss: 1.2975e-04 - mse: 1.2975e-04\n",
            "Epoch 61: val_loss did not improve from 0.00054\n",
            "43/43 [==============================] - 1s 9ms/step - loss: 1.2910e-04 - mse: 1.2910e-04 - val_loss: 5.7662e-04 - val_mse: 5.7662e-04\n",
            "Epoch 62/200\n",
            "37/43 [========================>.....] - ETA: 0s - loss: 1.3369e-04 - mse: 1.3369e-04\n",
            "Epoch 62: val_loss did not improve from 0.00054\n",
            "43/43 [==============================] - 1s 8ms/step - loss: 1.3397e-04 - mse: 1.3397e-04 - val_loss: 6.0106e-04 - val_mse: 6.0106e-04\n",
            "Epoch 63/200\n",
            "39/43 [==========================>...] - ETA: 0s - loss: 1.2679e-04 - mse: 1.2679e-04\n",
            "Epoch 63: val_loss did not improve from 0.00054\n",
            "43/43 [==============================] - 1s 11ms/step - loss: 1.3101e-04 - mse: 1.3101e-04 - val_loss: 7.8752e-04 - val_mse: 7.8752e-04\n",
            "Epoch 64/200\n",
            "41/43 [===========================>..] - ETA: 0s - loss: 1.1366e-04 - mse: 1.1366e-04\n",
            "Epoch 64: val_loss did not improve from 0.00054\n",
            "43/43 [==============================] - 1s 13ms/step - loss: 1.2601e-04 - mse: 1.2601e-04 - val_loss: 5.8398e-04 - val_mse: 5.8398e-04\n",
            "Epoch 65/200\n",
            "36/43 [========================>.....] - ETA: 0s - loss: 1.2205e-04 - mse: 1.2205e-04\n",
            "Epoch 65: val_loss did not improve from 0.00054\n",
            "43/43 [==============================] - 1s 11ms/step - loss: 1.2883e-04 - mse: 1.2883e-04 - val_loss: 7.0677e-04 - val_mse: 7.0677e-04\n",
            "Epoch 66/200\n",
            "37/43 [========================>.....] - ETA: 0s - loss: 1.2509e-04 - mse: 1.2509e-04\n",
            "Epoch 66: val_loss did not improve from 0.00054\n",
            "43/43 [==============================] - 1s 10ms/step - loss: 1.2902e-04 - mse: 1.2902e-04 - val_loss: 5.4518e-04 - val_mse: 5.4518e-04\n",
            "Epoch 67/200\n",
            "38/43 [=========================>....] - ETA: 0s - loss: 1.2291e-04 - mse: 1.2291e-04\n",
            "Epoch 67: val_loss did not improve from 0.00054\n",
            "43/43 [==============================] - 1s 10ms/step - loss: 1.2803e-04 - mse: 1.2803e-04 - val_loss: 5.4934e-04 - val_mse: 5.4934e-04\n",
            "Epoch 68/200\n",
            "36/43 [========================>.....] - ETA: 0s - loss: 1.1068e-04 - mse: 1.1068e-04\n",
            "Epoch 68: val_loss did not improve from 0.00054\n",
            "43/43 [==============================] - 1s 10ms/step - loss: 1.3037e-04 - mse: 1.3037e-04 - val_loss: 6.1356e-04 - val_mse: 6.1356e-04\n",
            "Epoch 69/200\n",
            "42/43 [============================>.] - ETA: 0s - loss: 1.3071e-04 - mse: 1.3071e-04\n",
            "Epoch 69: val_loss did not improve from 0.00054\n",
            "43/43 [==============================] - 1s 9ms/step - loss: 1.3197e-04 - mse: 1.3197e-04 - val_loss: 5.7281e-04 - val_mse: 5.7281e-04\n",
            "Epoch 70/200\n",
            "42/43 [============================>.] - ETA: 0s - loss: 1.3125e-04 - mse: 1.3125e-04\n",
            "Epoch 70: val_loss did not improve from 0.00054\n",
            "43/43 [==============================] - 1s 9ms/step - loss: 1.3066e-04 - mse: 1.3066e-04 - val_loss: 6.4150e-04 - val_mse: 6.4150e-04\n",
            "Epoch 71/200\n",
            "41/43 [===========================>..] - ETA: 0s - loss: 1.2733e-04 - mse: 1.2733e-04\n",
            "Epoch 71: val_loss did not improve from 0.00054\n",
            "43/43 [==============================] - 1s 10ms/step - loss: 1.2734e-04 - mse: 1.2734e-04 - val_loss: 5.7830e-04 - val_mse: 5.7830e-04\n",
            "Epoch 72/200\n",
            "42/43 [============================>.] - ETA: 0s - loss: 1.3034e-04 - mse: 1.3034e-04\n",
            "Epoch 72: val_loss did not improve from 0.00054\n",
            "43/43 [==============================] - 1s 9ms/step - loss: 1.2912e-04 - mse: 1.2912e-04 - val_loss: 7.2840e-04 - val_mse: 7.2840e-04\n",
            "Epoch 73/200\n",
            "40/43 [==========================>...] - ETA: 0s - loss: 1.2215e-04 - mse: 1.2215e-04\n",
            "Epoch 73: val_loss did not improve from 0.00054\n",
            "43/43 [==============================] - 1s 9ms/step - loss: 1.2753e-04 - mse: 1.2753e-04 - val_loss: 5.7214e-04 - val_mse: 5.7214e-04\n",
            "Epoch 74/200\n",
            "42/43 [============================>.] - ETA: 0s - loss: 1.2205e-04 - mse: 1.2205e-04\n",
            "Epoch 74: val_loss did not improve from 0.00054\n",
            "43/43 [==============================] - 1s 9ms/step - loss: 1.2661e-04 - mse: 1.2661e-04 - val_loss: 6.2427e-04 - val_mse: 6.2427e-04\n",
            "Epoch 75/200\n",
            "41/43 [===========================>..] - ETA: 0s - loss: 1.2425e-04 - mse: 1.2425e-04\n",
            "Epoch 75: val_loss did not improve from 0.00054\n",
            "43/43 [==============================] - 1s 9ms/step - loss: 1.3294e-04 - mse: 1.3294e-04 - val_loss: 5.9598e-04 - val_mse: 5.9598e-04\n",
            "Epoch 76/200\n",
            "41/43 [===========================>..] - ETA: 0s - loss: 1.2851e-04 - mse: 1.2851e-04\n",
            "Epoch 76: val_loss did not improve from 0.00054\n",
            "43/43 [==============================] - 1s 9ms/step - loss: 1.3264e-04 - mse: 1.3264e-04 - val_loss: 7.2679e-04 - val_mse: 7.2679e-04\n",
            "Epoch 77/200\n",
            "36/43 [========================>.....] - ETA: 0s - loss: 1.3030e-04 - mse: 1.3030e-04\n",
            "Epoch 77: val_loss did not improve from 0.00054\n",
            "43/43 [==============================] - 1s 9ms/step - loss: 1.3011e-04 - mse: 1.3011e-04 - val_loss: 6.5036e-04 - val_mse: 6.5036e-04\n",
            "Epoch 78/200\n",
            "42/43 [============================>.] - ETA: 0s - loss: 1.2456e-04 - mse: 1.2456e-04\n",
            "Epoch 78: val_loss did not improve from 0.00054\n",
            "43/43 [==============================] - 1s 9ms/step - loss: 1.2591e-04 - mse: 1.2591e-04 - val_loss: 6.2534e-04 - val_mse: 6.2534e-04\n",
            "Epoch 79/200\n",
            "35/43 [=======================>......] - ETA: 0s - loss: 1.0390e-04 - mse: 1.0390e-04\n",
            "Epoch 79: val_loss did not improve from 0.00054\n",
            "43/43 [==============================] - 1s 9ms/step - loss: 1.2642e-04 - mse: 1.2642e-04 - val_loss: 5.5797e-04 - val_mse: 5.5797e-04\n",
            "Epoch 80/200\n",
            "35/43 [=======================>......] - ETA: 0s - loss: 1.3995e-04 - mse: 1.3995e-04\n",
            "Epoch 80: val_loss did not improve from 0.00054\n",
            "43/43 [==============================] - 1s 9ms/step - loss: 1.3675e-04 - mse: 1.3675e-04 - val_loss: 5.5862e-04 - val_mse: 5.5862e-04\n",
            "Epoch 81/200\n",
            "37/43 [========================>.....] - ETA: 0s - loss: 1.1997e-04 - mse: 1.1997e-04\n",
            "Epoch 81: val_loss did not improve from 0.00054\n",
            "43/43 [==============================] - 0s 9ms/step - loss: 1.3667e-04 - mse: 1.3667e-04 - val_loss: 8.0739e-04 - val_mse: 8.0739e-04\n",
            "Epoch 82/200\n",
            "35/43 [=======================>......] - ETA: 0s - loss: 1.3242e-04 - mse: 1.3242e-04\n",
            "Epoch 82: val_loss did not improve from 0.00054\n",
            "43/43 [==============================] - 1s 8ms/step - loss: 1.3694e-04 - mse: 1.3694e-04 - val_loss: 6.4207e-04 - val_mse: 6.4207e-04\n",
            "Epoch 83/200\n",
            "37/43 [========================>.....] - ETA: 0s - loss: 1.2659e-04 - mse: 1.2659e-04\n",
            "Epoch 83: val_loss improved from 0.00054 to 0.00053, saving model to tmp_checkpoint.ckpt\n",
            "43/43 [==============================] - 1s 9ms/step - loss: 1.2608e-04 - mse: 1.2608e-04 - val_loss: 5.3227e-04 - val_mse: 5.3227e-04\n",
            "Epoch 84/200\n",
            "42/43 [============================>.] - ETA: 0s - loss: 1.2553e-04 - mse: 1.2553e-04\n",
            "Epoch 84: val_loss did not improve from 0.00053\n",
            "43/43 [==============================] - 1s 9ms/step - loss: 1.2662e-04 - mse: 1.2662e-04 - val_loss: 5.6907e-04 - val_mse: 5.6907e-04\n",
            "Epoch 85/200\n",
            "41/43 [===========================>..] - ETA: 0s - loss: 1.3211e-04 - mse: 1.3211e-04\n",
            "Epoch 85: val_loss did not improve from 0.00053\n",
            "43/43 [==============================] - 1s 9ms/step - loss: 1.2927e-04 - mse: 1.2927e-04 - val_loss: 5.9448e-04 - val_mse: 5.9448e-04\n",
            "Epoch 86/200\n",
            "41/43 [===========================>..] - ETA: 0s - loss: 1.2474e-04 - mse: 1.2474e-04\n",
            "Epoch 86: val_loss did not improve from 0.00053\n",
            "43/43 [==============================] - 1s 9ms/step - loss: 1.2733e-04 - mse: 1.2733e-04 - val_loss: 5.6167e-04 - val_mse: 5.6167e-04\n",
            "Epoch 87/200\n",
            "39/43 [==========================>...] - ETA: 0s - loss: 1.1982e-04 - mse: 1.1982e-04\n",
            "Epoch 87: val_loss did not improve from 0.00053\n",
            "43/43 [==============================] - 1s 10ms/step - loss: 1.2741e-04 - mse: 1.2741e-04 - val_loss: 6.3002e-04 - val_mse: 6.3002e-04\n",
            "Epoch 88/200\n",
            "43/43 [==============================] - ETA: 0s - loss: 1.3382e-04 - mse: 1.3382e-04\n",
            "Epoch 88: val_loss did not improve from 0.00053\n",
            "43/43 [==============================] - 1s 9ms/step - loss: 1.3382e-04 - mse: 1.3382e-04 - val_loss: 5.6375e-04 - val_mse: 5.6375e-04\n",
            "Epoch 89/200\n",
            "42/43 [============================>.] - ETA: 0s - loss: 1.3345e-04 - mse: 1.3345e-04\n",
            "Epoch 89: val_loss did not improve from 0.00053\n",
            "43/43 [==============================] - 1s 9ms/step - loss: 1.3190e-04 - mse: 1.3190e-04 - val_loss: 6.1917e-04 - val_mse: 6.1917e-04\n",
            "Epoch 90/200\n",
            "40/43 [==========================>...] - ETA: 0s - loss: 1.1972e-04 - mse: 1.1972e-04\n",
            "Epoch 90: val_loss did not improve from 0.00053\n",
            "43/43 [==============================] - 1s 10ms/step - loss: 1.2387e-04 - mse: 1.2387e-04 - val_loss: 6.5503e-04 - val_mse: 6.5503e-04\n",
            "Epoch 91/200\n",
            "35/43 [=======================>......] - ETA: 0s - loss: 1.0650e-04 - mse: 1.0650e-04\n",
            "Epoch 91: val_loss did not improve from 0.00053\n",
            "43/43 [==============================] - 1s 8ms/step - loss: 1.3080e-04 - mse: 1.3080e-04 - val_loss: 5.4157e-04 - val_mse: 5.4157e-04\n",
            "Epoch 92/200\n",
            "35/43 [=======================>......] - ETA: 0s - loss: 1.1833e-04 - mse: 1.1833e-04\n",
            "Epoch 92: val_loss did not improve from 0.00053\n",
            "43/43 [==============================] - 1s 9ms/step - loss: 1.2654e-04 - mse: 1.2654e-04 - val_loss: 6.5387e-04 - val_mse: 6.5387e-04\n",
            "Epoch 93/200\n",
            "35/43 [=======================>......] - ETA: 0s - loss: 1.0870e-04 - mse: 1.0870e-04\n",
            "Epoch 93: val_loss improved from 0.00053 to 0.00053, saving model to tmp_checkpoint.ckpt\n",
            "43/43 [==============================] - 1s 9ms/step - loss: 1.2456e-04 - mse: 1.2456e-04 - val_loss: 5.2678e-04 - val_mse: 5.2678e-04\n",
            "Epoch 94/200\n",
            "42/43 [============================>.] - ETA: 0s - loss: 1.2274e-04 - mse: 1.2274e-04\n",
            "Epoch 94: val_loss did not improve from 0.00053\n",
            "43/43 [==============================] - 1s 9ms/step - loss: 1.3470e-04 - mse: 1.3470e-04 - val_loss: 5.4097e-04 - val_mse: 5.4097e-04\n",
            "Epoch 95/200\n",
            "42/43 [============================>.] - ETA: 0s - loss: 1.2976e-04 - mse: 1.2976e-04\n",
            "Epoch 95: val_loss improved from 0.00053 to 0.00053, saving model to tmp_checkpoint.ckpt\n",
            "43/43 [==============================] - 1s 10ms/step - loss: 1.3020e-04 - mse: 1.3020e-04 - val_loss: 5.2528e-04 - val_mse: 5.2528e-04\n",
            "Epoch 96/200\n",
            "41/43 [===========================>..] - ETA: 0s - loss: 1.4762e-04 - mse: 1.4762e-04\n",
            "Epoch 96: val_loss did not improve from 0.00053\n",
            "43/43 [==============================] - 1s 10ms/step - loss: 1.4233e-04 - mse: 1.4233e-04 - val_loss: 5.5973e-04 - val_mse: 5.5973e-04\n",
            "Epoch 97/200\n",
            "39/43 [==========================>...] - ETA: 0s - loss: 1.2178e-04 - mse: 1.2178e-04\n",
            "Epoch 97: val_loss did not improve from 0.00053\n",
            "43/43 [==============================] - 1s 10ms/step - loss: 1.2408e-04 - mse: 1.2408e-04 - val_loss: 6.3320e-04 - val_mse: 6.3320e-04\n",
            "Epoch 98/200\n",
            "39/43 [==========================>...] - ETA: 0s - loss: 1.2365e-04 - mse: 1.2365e-04\n",
            "Epoch 98: val_loss did not improve from 0.00053\n",
            "43/43 [==============================] - 1s 10ms/step - loss: 1.2585e-04 - mse: 1.2585e-04 - val_loss: 6.5004e-04 - val_mse: 6.5004e-04\n",
            "Epoch 99/200\n",
            "38/43 [=========================>....] - ETA: 0s - loss: 1.0973e-04 - mse: 1.0973e-04\n",
            "Epoch 99: val_loss did not improve from 0.00053\n",
            "43/43 [==============================] - 1s 10ms/step - loss: 1.2382e-04 - mse: 1.2382e-04 - val_loss: 7.8105e-04 - val_mse: 7.8105e-04\n",
            "Epoch 100/200\n",
            "40/43 [==========================>...] - ETA: 0s - loss: 1.2868e-04 - mse: 1.2868e-04\n",
            "Epoch 100: val_loss did not improve from 0.00053\n",
            "43/43 [==============================] - 1s 10ms/step - loss: 1.2663e-04 - mse: 1.2663e-04 - val_loss: 5.2682e-04 - val_mse: 5.2682e-04\n",
            "Epoch 101/200\n",
            "43/43 [==============================] - ETA: 0s - loss: 1.2389e-04 - mse: 1.2389e-04\n",
            "Epoch 101: val_loss did not improve from 0.00053\n",
            "43/43 [==============================] - 1s 9ms/step - loss: 1.2389e-04 - mse: 1.2389e-04 - val_loss: 5.6191e-04 - val_mse: 5.6191e-04\n",
            "Epoch 102/200\n",
            "40/43 [==========================>...] - ETA: 0s - loss: 1.2699e-04 - mse: 1.2699e-04\n",
            "Epoch 102: val_loss did not improve from 0.00053\n",
            "43/43 [==============================] - 1s 10ms/step - loss: 1.2231e-04 - mse: 1.2231e-04 - val_loss: 5.3470e-04 - val_mse: 5.3470e-04\n",
            "Epoch 103/200\n",
            "41/43 [===========================>..] - ETA: 0s - loss: 1.3367e-04 - mse: 1.3367e-04\n",
            "Epoch 103: val_loss did not improve from 0.00053\n",
            "43/43 [==============================] - 1s 10ms/step - loss: 1.3358e-04 - mse: 1.3358e-04 - val_loss: 7.3017e-04 - val_mse: 7.3017e-04\n",
            "Epoch 104/200\n",
            "41/43 [===========================>..] - ETA: 0s - loss: 1.2630e-04 - mse: 1.2630e-04\n",
            "Epoch 104: val_loss did not improve from 0.00053\n",
            "43/43 [==============================] - 1s 10ms/step - loss: 1.2737e-04 - mse: 1.2737e-04 - val_loss: 5.6666e-04 - val_mse: 5.6666e-04\n",
            "Epoch 105/200\n",
            "40/43 [==========================>...] - ETA: 0s - loss: 1.3086e-04 - mse: 1.3086e-04\n",
            "Epoch 105: val_loss did not improve from 0.00053\n",
            "43/43 [==============================] - 1s 10ms/step - loss: 1.2997e-04 - mse: 1.2997e-04 - val_loss: 5.7611e-04 - val_mse: 5.7611e-04\n",
            "Epoch 106/200\n",
            "42/43 [============================>.] - ETA: 0s - loss: 1.3223e-04 - mse: 1.3223e-04\n",
            "Epoch 106: val_loss did not improve from 0.00053\n",
            "43/43 [==============================] - 1s 9ms/step - loss: 1.3014e-04 - mse: 1.3014e-04 - val_loss: 5.7535e-04 - val_mse: 5.7535e-04\n",
            "Epoch 107/200\n",
            "41/43 [===========================>..] - ETA: 0s - loss: 1.2755e-04 - mse: 1.2755e-04\n",
            "Epoch 107: val_loss did not improve from 0.00053\n",
            "43/43 [==============================] - 1s 9ms/step - loss: 1.2470e-04 - mse: 1.2470e-04 - val_loss: 5.3320e-04 - val_mse: 5.3320e-04\n",
            "Epoch 108/200\n",
            "43/43 [==============================] - ETA: 0s - loss: 1.2197e-04 - mse: 1.2197e-04\n",
            "Epoch 108: val_loss did not improve from 0.00053\n",
            "43/43 [==============================] - 1s 9ms/step - loss: 1.2197e-04 - mse: 1.2197e-04 - val_loss: 6.5283e-04 - val_mse: 6.5283e-04\n",
            "Epoch 109/200\n",
            "38/43 [=========================>....] - ETA: 0s - loss: 1.0154e-04 - mse: 1.0154e-04\n",
            "Epoch 109: val_loss improved from 0.00053 to 0.00052, saving model to tmp_checkpoint.ckpt\n",
            "43/43 [==============================] - 1s 10ms/step - loss: 1.2009e-04 - mse: 1.2009e-04 - val_loss: 5.2489e-04 - val_mse: 5.2489e-04\n",
            "Epoch 110/200\n",
            "39/43 [==========================>...] - ETA: 0s - loss: 1.2752e-04 - mse: 1.2752e-04\n",
            "Epoch 110: val_loss did not improve from 0.00052\n",
            "43/43 [==============================] - 1s 10ms/step - loss: 1.3846e-04 - mse: 1.3846e-04 - val_loss: 6.1745e-04 - val_mse: 6.1745e-04\n",
            "Epoch 111/200\n",
            "41/43 [===========================>..] - ETA: 0s - loss: 1.2333e-04 - mse: 1.2333e-04\n",
            "Epoch 111: val_loss did not improve from 0.00052\n",
            "43/43 [==============================] - 1s 9ms/step - loss: 1.2420e-04 - mse: 1.2420e-04 - val_loss: 6.0993e-04 - val_mse: 6.0993e-04\n",
            "Epoch 112/200\n",
            "36/43 [========================>.....] - ETA: 0s - loss: 1.1827e-04 - mse: 1.1827e-04\n",
            "Epoch 112: val_loss did not improve from 0.00052\n",
            "43/43 [==============================] - 1s 9ms/step - loss: 1.2353e-04 - mse: 1.2353e-04 - val_loss: 5.4470e-04 - val_mse: 5.4470e-04\n",
            "Epoch 113/200\n",
            "43/43 [==============================] - ETA: 0s - loss: 1.2184e-04 - mse: 1.2184e-04\n",
            "Epoch 113: val_loss did not improve from 0.00052\n",
            "43/43 [==============================] - 1s 9ms/step - loss: 1.2184e-04 - mse: 1.2184e-04 - val_loss: 5.9310e-04 - val_mse: 5.9310e-04\n",
            "Epoch 114/200\n",
            "35/43 [=======================>......] - ETA: 0s - loss: 1.2053e-04 - mse: 1.2053e-04\n",
            "Epoch 114: val_loss did not improve from 0.00052\n",
            "43/43 [==============================] - 1s 9ms/step - loss: 1.2773e-04 - mse: 1.2773e-04 - val_loss: 6.3331e-04 - val_mse: 6.3331e-04\n",
            "Epoch 115/200\n",
            "42/43 [============================>.] - ETA: 0s - loss: 1.2654e-04 - mse: 1.2654e-04\n",
            "Epoch 115: val_loss did not improve from 0.00052\n",
            "43/43 [==============================] - 1s 9ms/step - loss: 1.2798e-04 - mse: 1.2798e-04 - val_loss: 5.6951e-04 - val_mse: 5.6951e-04\n",
            "Epoch 116/200\n",
            "34/43 [======================>.......] - ETA: 0s - loss: 1.1689e-04 - mse: 1.1689e-04\n",
            "Epoch 116: val_loss did not improve from 0.00052\n",
            "43/43 [==============================] - 1s 9ms/step - loss: 1.2483e-04 - mse: 1.2483e-04 - val_loss: 5.5810e-04 - val_mse: 5.5810e-04\n",
            "Epoch 117/200\n",
            "42/43 [============================>.] - ETA: 0s - loss: 1.2340e-04 - mse: 1.2340e-04\n",
            "Epoch 117: val_loss did not improve from 0.00052\n",
            "43/43 [==============================] - 1s 10ms/step - loss: 1.2206e-04 - mse: 1.2206e-04 - val_loss: 5.5609e-04 - val_mse: 5.5609e-04\n",
            "Epoch 118/200\n",
            "39/43 [==========================>...] - ETA: 0s - loss: 1.2439e-04 - mse: 1.2439e-04\n",
            "Epoch 118: val_loss did not improve from 0.00052\n",
            "43/43 [==============================] - 1s 10ms/step - loss: 1.2309e-04 - mse: 1.2309e-04 - val_loss: 5.7968e-04 - val_mse: 5.7968e-04\n",
            "Epoch 119/200\n",
            "43/43 [==============================] - ETA: 0s - loss: 1.2139e-04 - mse: 1.2139e-04\n",
            "Epoch 119: val_loss did not improve from 0.00052\n",
            "43/43 [==============================] - 1s 11ms/step - loss: 1.2139e-04 - mse: 1.2139e-04 - val_loss: 5.5035e-04 - val_mse: 5.5035e-04\n",
            "Epoch 120/200\n",
            "38/43 [=========================>....] - ETA: 0s - loss: 1.1932e-04 - mse: 1.1932e-04\n",
            "Epoch 120: val_loss did not improve from 0.00052\n",
            "43/43 [==============================] - 1s 10ms/step - loss: 1.2482e-04 - mse: 1.2482e-04 - val_loss: 6.6217e-04 - val_mse: 6.6217e-04\n",
            "Epoch 121/200\n",
            "39/43 [==========================>...] - ETA: 0s - loss: 1.2104e-04 - mse: 1.2104e-04\n",
            "Epoch 121: val_loss did not improve from 0.00052\n",
            "43/43 [==============================] - 1s 10ms/step - loss: 1.2659e-04 - mse: 1.2659e-04 - val_loss: 5.3306e-04 - val_mse: 5.3306e-04\n",
            "Epoch 122/200\n",
            "39/43 [==========================>...] - ETA: 0s - loss: 1.2059e-04 - mse: 1.2059e-04\n",
            "Epoch 122: val_loss did not improve from 0.00052\n",
            "43/43 [==============================] - 1s 10ms/step - loss: 1.2352e-04 - mse: 1.2352e-04 - val_loss: 6.0177e-04 - val_mse: 6.0177e-04\n",
            "Epoch 123/200\n",
            "39/43 [==========================>...] - ETA: 0s - loss: 1.1517e-04 - mse: 1.1517e-04\n",
            "Epoch 123: val_loss improved from 0.00052 to 0.00052, saving model to tmp_checkpoint.ckpt\n",
            "43/43 [==============================] - 1s 10ms/step - loss: 1.2294e-04 - mse: 1.2294e-04 - val_loss: 5.1702e-04 - val_mse: 5.1702e-04\n",
            "Epoch 124/200\n",
            "41/43 [===========================>..] - ETA: 0s - loss: 1.3228e-04 - mse: 1.3228e-04\n",
            "Epoch 124: val_loss did not improve from 0.00052\n",
            "43/43 [==============================] - 1s 10ms/step - loss: 1.2975e-04 - mse: 1.2975e-04 - val_loss: 6.2606e-04 - val_mse: 6.2606e-04\n",
            "Epoch 125/200\n",
            "41/43 [===========================>..] - ETA: 0s - loss: 1.2651e-04 - mse: 1.2651e-04\n",
            "Epoch 125: val_loss did not improve from 0.00052\n",
            "43/43 [==============================] - 1s 10ms/step - loss: 1.2513e-04 - mse: 1.2513e-04 - val_loss: 5.9274e-04 - val_mse: 5.9274e-04\n",
            "Epoch 126/200\n",
            "40/43 [==========================>...] - ETA: 0s - loss: 1.2124e-04 - mse: 1.2124e-04\n",
            "Epoch 126: val_loss did not improve from 0.00052\n",
            "43/43 [==============================] - 1s 10ms/step - loss: 1.2388e-04 - mse: 1.2388e-04 - val_loss: 5.2000e-04 - val_mse: 5.2000e-04\n",
            "Epoch 127/200\n",
            "39/43 [==========================>...] - ETA: 0s - loss: 1.3125e-04 - mse: 1.3125e-04\n",
            "Epoch 127: val_loss did not improve from 0.00052\n",
            "43/43 [==============================] - 1s 10ms/step - loss: 1.2299e-04 - mse: 1.2299e-04 - val_loss: 5.2200e-04 - val_mse: 5.2200e-04\n",
            "Epoch 128/200\n",
            "39/43 [==========================>...] - ETA: 0s - loss: 1.2083e-04 - mse: 1.2083e-04\n",
            "Epoch 128: val_loss did not improve from 0.00052\n",
            "43/43 [==============================] - 1s 10ms/step - loss: 1.2034e-04 - mse: 1.2034e-04 - val_loss: 5.8015e-04 - val_mse: 5.8015e-04\n",
            "Epoch 129/200\n",
            "38/43 [=========================>....] - ETA: 0s - loss: 1.3029e-04 - mse: 1.3029e-04\n",
            "Epoch 129: val_loss did not improve from 0.00052\n",
            "43/43 [==============================] - 1s 10ms/step - loss: 1.2063e-04 - mse: 1.2063e-04 - val_loss: 5.4456e-04 - val_mse: 5.4456e-04\n",
            "Epoch 130/200\n",
            "36/43 [========================>.....] - ETA: 0s - loss: 1.1492e-04 - mse: 1.1492e-04\n",
            "Epoch 130: val_loss did not improve from 0.00052\n",
            "43/43 [==============================] - 1s 11ms/step - loss: 1.2355e-04 - mse: 1.2355e-04 - val_loss: 5.2760e-04 - val_mse: 5.2760e-04\n",
            "Epoch 131/200\n",
            "36/43 [========================>.....] - ETA: 0s - loss: 1.1664e-04 - mse: 1.1664e-04\n",
            "Epoch 131: val_loss did not improve from 0.00052\n",
            "43/43 [==============================] - 1s 10ms/step - loss: 1.2502e-04 - mse: 1.2502e-04 - val_loss: 5.1712e-04 - val_mse: 5.1712e-04\n",
            "Epoch 132/200\n",
            "38/43 [=========================>....] - ETA: 0s - loss: 1.2930e-04 - mse: 1.2930e-04\n",
            "Epoch 132: val_loss did not improve from 0.00052\n",
            "43/43 [==============================] - 1s 10ms/step - loss: 1.2068e-04 - mse: 1.2068e-04 - val_loss: 5.5236e-04 - val_mse: 5.5236e-04\n",
            "Epoch 133/200\n",
            "37/43 [========================>.....] - ETA: 0s - loss: 1.1903e-04 - mse: 1.1903e-04\n",
            "Epoch 133: val_loss did not improve from 0.00052\n",
            "43/43 [==============================] - 1s 10ms/step - loss: 1.1982e-04 - mse: 1.1982e-04 - val_loss: 5.2348e-04 - val_mse: 5.2348e-04\n",
            "Epoch 134/200\n",
            "39/43 [==========================>...] - ETA: 0s - loss: 1.1273e-04 - mse: 1.1273e-04\n",
            "Epoch 134: val_loss did not improve from 0.00052\n",
            "43/43 [==============================] - 1s 10ms/step - loss: 1.2210e-04 - mse: 1.2210e-04 - val_loss: 5.6650e-04 - val_mse: 5.6650e-04\n",
            "Epoch 135/200\n",
            "39/43 [==========================>...] - ETA: 0s - loss: 1.2793e-04 - mse: 1.2793e-04\n",
            "Epoch 135: val_loss did not improve from 0.00052\n",
            "43/43 [==============================] - 1s 10ms/step - loss: 1.2557e-04 - mse: 1.2557e-04 - val_loss: 5.2254e-04 - val_mse: 5.2254e-04\n",
            "Epoch 136/200\n",
            "39/43 [==========================>...] - ETA: 0s - loss: 1.2271e-04 - mse: 1.2271e-04\n",
            "Epoch 136: val_loss did not improve from 0.00052\n",
            "43/43 [==============================] - 1s 10ms/step - loss: 1.2280e-04 - mse: 1.2280e-04 - val_loss: 5.4885e-04 - val_mse: 5.4885e-04\n",
            "Epoch 137/200\n",
            "42/43 [============================>.] - ETA: 0s - loss: 1.2037e-04 - mse: 1.2037e-04\n",
            "Epoch 137: val_loss did not improve from 0.00052\n",
            "43/43 [==============================] - 1s 10ms/step - loss: 1.2064e-04 - mse: 1.2064e-04 - val_loss: 6.5051e-04 - val_mse: 6.5051e-04\n",
            "Epoch 138/200\n",
            "39/43 [==========================>...] - ETA: 0s - loss: 1.1864e-04 - mse: 1.1864e-04\n",
            "Epoch 138: val_loss improved from 0.00052 to 0.00051, saving model to tmp_checkpoint.ckpt\n",
            "43/43 [==============================] - 1s 10ms/step - loss: 1.2148e-04 - mse: 1.2148e-04 - val_loss: 5.1414e-04 - val_mse: 5.1414e-04\n",
            "Epoch 139/200\n",
            "37/43 [========================>.....] - ETA: 0s - loss: 1.1233e-04 - mse: 1.1233e-04\n",
            "Epoch 139: val_loss did not improve from 0.00051\n",
            "43/43 [==============================] - 1s 10ms/step - loss: 1.2079e-04 - mse: 1.2079e-04 - val_loss: 5.5445e-04 - val_mse: 5.5445e-04\n",
            "Epoch 140/200\n",
            "39/43 [==========================>...] - ETA: 0s - loss: 1.2406e-04 - mse: 1.2406e-04\n",
            "Epoch 140: val_loss did not improve from 0.00051\n",
            "43/43 [==============================] - 1s 10ms/step - loss: 1.2336e-04 - mse: 1.2336e-04 - val_loss: 6.4936e-04 - val_mse: 6.4936e-04\n",
            "Epoch 141/200\n",
            "43/43 [==============================] - ETA: 0s - loss: 1.1947e-04 - mse: 1.1947e-04\n",
            "Epoch 141: val_loss did not improve from 0.00051\n",
            "43/43 [==============================] - 1s 11ms/step - loss: 1.1947e-04 - mse: 1.1947e-04 - val_loss: 6.1916e-04 - val_mse: 6.1916e-04\n",
            "Epoch 142/200\n",
            "36/43 [========================>.....] - ETA: 0s - loss: 1.1375e-04 - mse: 1.1375e-04\n",
            "Epoch 142: val_loss did not improve from 0.00051\n",
            "43/43 [==============================] - 1s 10ms/step - loss: 1.2103e-04 - mse: 1.2103e-04 - val_loss: 5.6992e-04 - val_mse: 5.6992e-04\n",
            "Epoch 143/200\n",
            "37/43 [========================>.....] - ETA: 0s - loss: 1.2534e-04 - mse: 1.2534e-04\n",
            "Epoch 143: val_loss did not improve from 0.00051\n",
            "43/43 [==============================] - 1s 10ms/step - loss: 1.2765e-04 - mse: 1.2765e-04 - val_loss: 7.8563e-04 - val_mse: 7.8563e-04\n",
            "Epoch 144/200\n",
            "43/43 [==============================] - ETA: 0s - loss: 1.2796e-04 - mse: 1.2796e-04\n",
            "Epoch 144: val_loss improved from 0.00051 to 0.00051, saving model to tmp_checkpoint.ckpt\n",
            "43/43 [==============================] - 1s 11ms/step - loss: 1.2796e-04 - mse: 1.2796e-04 - val_loss: 5.1371e-04 - val_mse: 5.1371e-04\n",
            "Epoch 145/200\n",
            "37/43 [========================>.....] - ETA: 0s - loss: 1.1574e-04 - mse: 1.1574e-04\n",
            "Epoch 145: val_loss did not improve from 0.00051\n",
            "43/43 [==============================] - 1s 10ms/step - loss: 1.2097e-04 - mse: 1.2097e-04 - val_loss: 5.7112e-04 - val_mse: 5.7112e-04\n",
            "Epoch 146/200\n",
            "42/43 [============================>.] - ETA: 0s - loss: 1.2094e-04 - mse: 1.2094e-04\n",
            "Epoch 146: val_loss did not improve from 0.00051\n",
            "43/43 [==============================] - 1s 11ms/step - loss: 1.2054e-04 - mse: 1.2054e-04 - val_loss: 5.2166e-04 - val_mse: 5.2166e-04\n",
            "Epoch 147/200\n",
            "36/43 [========================>.....] - ETA: 0s - loss: 1.2619e-04 - mse: 1.2619e-04\n",
            "Epoch 147: val_loss did not improve from 0.00051\n",
            "43/43 [==============================] - 1s 10ms/step - loss: 1.2004e-04 - mse: 1.2004e-04 - val_loss: 5.6671e-04 - val_mse: 5.6671e-04\n",
            "Epoch 148/200\n",
            "38/43 [=========================>....] - ETA: 0s - loss: 1.2159e-04 - mse: 1.2159e-04\n",
            "Epoch 148: val_loss did not improve from 0.00051\n",
            "43/43 [==============================] - 1s 10ms/step - loss: 1.2238e-04 - mse: 1.2238e-04 - val_loss: 5.5521e-04 - val_mse: 5.5521e-04\n",
            "Epoch 149/200\n",
            "39/43 [==========================>...] - ETA: 0s - loss: 1.3104e-04 - mse: 1.3104e-04\n",
            "Epoch 149: val_loss did not improve from 0.00051\n",
            "43/43 [==============================] - 1s 10ms/step - loss: 1.2657e-04 - mse: 1.2657e-04 - val_loss: 6.6855e-04 - val_mse: 6.6855e-04\n",
            "Epoch 150/200\n",
            "41/43 [===========================>..] - ETA: 0s - loss: 1.2605e-04 - mse: 1.2605e-04\n",
            "Epoch 150: val_loss did not improve from 0.00051\n",
            "43/43 [==============================] - 1s 10ms/step - loss: 1.2293e-04 - mse: 1.2293e-04 - val_loss: 5.2926e-04 - val_mse: 5.2926e-04\n",
            "Epoch 151/200\n",
            "37/43 [========================>.....] - ETA: 0s - loss: 1.2461e-04 - mse: 1.2461e-04\n",
            "Epoch 151: val_loss did not improve from 0.00051\n",
            "43/43 [==============================] - 1s 10ms/step - loss: 1.2063e-04 - mse: 1.2063e-04 - val_loss: 5.8755e-04 - val_mse: 5.8755e-04\n",
            "Epoch 152/200\n",
            "40/43 [==========================>...] - ETA: 0s - loss: 1.1770e-04 - mse: 1.1770e-04\n",
            "Epoch 152: val_loss did not improve from 0.00051\n",
            "43/43 [==============================] - 1s 11ms/step - loss: 1.2097e-04 - mse: 1.2097e-04 - val_loss: 5.9543e-04 - val_mse: 5.9543e-04\n",
            "Epoch 153/200\n",
            "41/43 [===========================>..] - ETA: 0s - loss: 1.1940e-04 - mse: 1.1940e-04\n",
            "Epoch 153: val_loss did not improve from 0.00051\n",
            "43/43 [==============================] - 1s 11ms/step - loss: 1.1962e-04 - mse: 1.1962e-04 - val_loss: 5.1951e-04 - val_mse: 5.1951e-04\n",
            "Epoch 154/200\n",
            "42/43 [============================>.] - ETA: 0s - loss: 1.2798e-04 - mse: 1.2798e-04\n",
            "Epoch 154: val_loss did not improve from 0.00051\n",
            "43/43 [==============================] - 1s 11ms/step - loss: 1.2618e-04 - mse: 1.2618e-04 - val_loss: 5.3112e-04 - val_mse: 5.3112e-04\n",
            "Epoch 155/200\n",
            "42/43 [============================>.] - ETA: 0s - loss: 1.1357e-04 - mse: 1.1357e-04\n",
            "Epoch 155: val_loss did not improve from 0.00051\n",
            "43/43 [==============================] - 1s 11ms/step - loss: 1.1835e-04 - mse: 1.1835e-04 - val_loss: 8.4036e-04 - val_mse: 8.4036e-04\n",
            "Epoch 156/200\n",
            "41/43 [===========================>..] - ETA: 0s - loss: 1.2259e-04 - mse: 1.2259e-04\n",
            "Epoch 156: val_loss did not improve from 0.00051\n",
            "43/43 [==============================] - 1s 11ms/step - loss: 1.2040e-04 - mse: 1.2040e-04 - val_loss: 5.7157e-04 - val_mse: 5.7157e-04\n",
            "Epoch 157/200\n",
            "36/43 [========================>.....] - ETA: 0s - loss: 1.1018e-04 - mse: 1.1018e-04\n",
            "Epoch 157: val_loss did not improve from 0.00051\n",
            "43/43 [==============================] - 1s 10ms/step - loss: 1.2209e-04 - mse: 1.2209e-04 - val_loss: 6.2815e-04 - val_mse: 6.2815e-04\n",
            "Epoch 158/200\n",
            "43/43 [==============================] - ETA: 0s - loss: 1.1896e-04 - mse: 1.1896e-04\n",
            "Epoch 158: val_loss did not improve from 0.00051\n",
            "43/43 [==============================] - 1s 11ms/step - loss: 1.1896e-04 - mse: 1.1896e-04 - val_loss: 5.6560e-04 - val_mse: 5.6560e-04\n",
            "Epoch 159/200\n",
            "43/43 [==============================] - ETA: 0s - loss: 1.1788e-04 - mse: 1.1788e-04\n",
            "Epoch 159: val_loss did not improve from 0.00051\n",
            "43/43 [==============================] - 1s 11ms/step - loss: 1.1788e-04 - mse: 1.1788e-04 - val_loss: 5.4073e-04 - val_mse: 5.4073e-04\n",
            "Epoch 160/200\n",
            "42/43 [============================>.] - ETA: 0s - loss: 1.1645e-04 - mse: 1.1645e-04\n",
            "Epoch 160: val_loss did not improve from 0.00051\n",
            "43/43 [==============================] - 1s 11ms/step - loss: 1.1978e-04 - mse: 1.1978e-04 - val_loss: 5.3697e-04 - val_mse: 5.3697e-04\n",
            "Epoch 161/200\n",
            "41/43 [===========================>..] - ETA: 0s - loss: 1.2274e-04 - mse: 1.2274e-04\n",
            "Epoch 161: val_loss did not improve from 0.00051\n",
            "43/43 [==============================] - 1s 11ms/step - loss: 1.2769e-04 - mse: 1.2769e-04 - val_loss: 7.2392e-04 - val_mse: 7.2392e-04\n",
            "Epoch 162/200\n",
            "36/43 [========================>.....] - ETA: 0s - loss: 1.1818e-04 - mse: 1.1818e-04\n",
            "Epoch 162: val_loss did not improve from 0.00051\n",
            "43/43 [==============================] - 1s 10ms/step - loss: 1.2196e-04 - mse: 1.2196e-04 - val_loss: 6.1676e-04 - val_mse: 6.1676e-04\n",
            "Epoch 163/200\n",
            "36/43 [========================>.....] - ETA: 0s - loss: 1.1967e-04 - mse: 1.1967e-04\n",
            "Epoch 163: val_loss did not improve from 0.00051\n",
            "43/43 [==============================] - 1s 10ms/step - loss: 1.2001e-04 - mse: 1.2001e-04 - val_loss: 5.2745e-04 - val_mse: 5.2745e-04\n",
            "Epoch 164/200\n",
            "43/43 [==============================] - ETA: 0s - loss: 1.1887e-04 - mse: 1.1887e-04\n",
            "Epoch 164: val_loss did not improve from 0.00051\n",
            "43/43 [==============================] - 1s 10ms/step - loss: 1.1887e-04 - mse: 1.1887e-04 - val_loss: 7.4096e-04 - val_mse: 7.4096e-04\n",
            "Epoch 165/200\n",
            "38/43 [=========================>....] - ETA: 0s - loss: 1.3601e-04 - mse: 1.3601e-04\n",
            "Epoch 165: val_loss did not improve from 0.00051\n",
            "43/43 [==============================] - 1s 10ms/step - loss: 1.3277e-04 - mse: 1.3277e-04 - val_loss: 7.4422e-04 - val_mse: 7.4422e-04\n",
            "Epoch 166/200\n",
            "41/43 [===========================>..] - ETA: 0s - loss: 1.2255e-04 - mse: 1.2255e-04\n",
            "Epoch 166: val_loss did not improve from 0.00051\n",
            "43/43 [==============================] - 1s 11ms/step - loss: 1.2268e-04 - mse: 1.2268e-04 - val_loss: 6.3645e-04 - val_mse: 6.3645e-04\n",
            "Epoch 167/200\n",
            "36/43 [========================>.....] - ETA: 0s - loss: 1.0965e-04 - mse: 1.0965e-04\n",
            "Epoch 167: val_loss did not improve from 0.00051\n",
            "43/43 [==============================] - 1s 11ms/step - loss: 1.1626e-04 - mse: 1.1626e-04 - val_loss: 5.4708e-04 - val_mse: 5.4708e-04\n",
            "Epoch 168/200\n",
            "38/43 [=========================>....] - ETA: 0s - loss: 1.1889e-04 - mse: 1.1889e-04\n",
            "Epoch 168: val_loss did not improve from 0.00051\n",
            "43/43 [==============================] - 1s 10ms/step - loss: 1.1965e-04 - mse: 1.1965e-04 - val_loss: 6.2419e-04 - val_mse: 6.2419e-04\n",
            "Epoch 169/200\n",
            "37/43 [========================>.....] - ETA: 0s - loss: 1.2197e-04 - mse: 1.2197e-04\n",
            "Epoch 169: val_loss did not improve from 0.00051\n",
            "43/43 [==============================] - 1s 10ms/step - loss: 1.1782e-04 - mse: 1.1782e-04 - val_loss: 5.1486e-04 - val_mse: 5.1486e-04\n",
            "Epoch 170/200\n",
            "36/43 [========================>.....] - ETA: 0s - loss: 1.1613e-04 - mse: 1.1613e-04\n",
            "Epoch 170: val_loss did not improve from 0.00051\n",
            "43/43 [==============================] - 1s 10ms/step - loss: 1.2356e-04 - mse: 1.2356e-04 - val_loss: 5.7828e-04 - val_mse: 5.7828e-04\n",
            "Epoch 171/200\n",
            "39/43 [==========================>...] - ETA: 0s - loss: 1.0481e-04 - mse: 1.0481e-04\n",
            "Epoch 171: val_loss did not improve from 0.00051\n",
            "43/43 [==============================] - 1s 10ms/step - loss: 1.1605e-04 - mse: 1.1605e-04 - val_loss: 6.3448e-04 - val_mse: 6.3448e-04\n",
            "Epoch 172/200\n",
            "38/43 [=========================>....] - ETA: 0s - loss: 1.1654e-04 - mse: 1.1654e-04\n",
            "Epoch 172: val_loss improved from 0.00051 to 0.00051, saving model to tmp_checkpoint.ckpt\n",
            "43/43 [==============================] - 1s 10ms/step - loss: 1.1857e-04 - mse: 1.1857e-04 - val_loss: 5.0939e-04 - val_mse: 5.0939e-04\n",
            "Epoch 173/200\n",
            "43/43 [==============================] - ETA: 0s - loss: 1.1985e-04 - mse: 1.1985e-04\n",
            "Epoch 173: val_loss did not improve from 0.00051\n",
            "43/43 [==============================] - 1s 11ms/step - loss: 1.1985e-04 - mse: 1.1985e-04 - val_loss: 6.2321e-04 - val_mse: 6.2321e-04\n",
            "Epoch 174/200\n",
            "36/43 [========================>.....] - ETA: 0s - loss: 1.2135e-04 - mse: 1.2135e-04\n",
            "Epoch 174: val_loss did not improve from 0.00051\n",
            "43/43 [==============================] - 1s 11ms/step - loss: 1.1552e-04 - mse: 1.1552e-04 - val_loss: 5.8350e-04 - val_mse: 5.8350e-04\n",
            "Epoch 175/200\n",
            "37/43 [========================>.....] - ETA: 0s - loss: 1.2718e-04 - mse: 1.2718e-04\n",
            "Epoch 175: val_loss improved from 0.00051 to 0.00051, saving model to tmp_checkpoint.ckpt\n",
            "43/43 [==============================] - 1s 11ms/step - loss: 1.2284e-04 - mse: 1.2284e-04 - val_loss: 5.0570e-04 - val_mse: 5.0570e-04\n",
            "Epoch 176/200\n",
            "42/43 [============================>.] - ETA: 0s - loss: 1.2178e-04 - mse: 1.2178e-04\n",
            "Epoch 176: val_loss did not improve from 0.00051\n",
            "43/43 [==============================] - 1s 11ms/step - loss: 1.2227e-04 - mse: 1.2227e-04 - val_loss: 5.6479e-04 - val_mse: 5.6479e-04\n",
            "Epoch 177/200\n",
            "37/43 [========================>.....] - ETA: 0s - loss: 1.2605e-04 - mse: 1.2605e-04\n",
            "Epoch 177: val_loss improved from 0.00051 to 0.00050, saving model to tmp_checkpoint.ckpt\n",
            "43/43 [==============================] - 1s 11ms/step - loss: 1.2113e-04 - mse: 1.2113e-04 - val_loss: 5.0312e-04 - val_mse: 5.0312e-04\n",
            "Epoch 178/200\n",
            "42/43 [============================>.] - ETA: 0s - loss: 1.1866e-04 - mse: 1.1866e-04\n",
            "Epoch 178: val_loss did not improve from 0.00050\n",
            "43/43 [==============================] - 1s 11ms/step - loss: 1.1917e-04 - mse: 1.1917e-04 - val_loss: 5.0956e-04 - val_mse: 5.0956e-04\n",
            "Epoch 179/200\n",
            "42/43 [============================>.] - ETA: 0s - loss: 1.2167e-04 - mse: 1.2167e-04\n",
            "Epoch 179: val_loss did not improve from 0.00050\n",
            "43/43 [==============================] - 1s 11ms/step - loss: 1.2589e-04 - mse: 1.2589e-04 - val_loss: 5.6683e-04 - val_mse: 5.6683e-04\n",
            "Epoch 180/200\n",
            "36/43 [========================>.....] - ETA: 0s - loss: 1.1616e-04 - mse: 1.1616e-04\n",
            "Epoch 180: val_loss did not improve from 0.00050\n",
            "43/43 [==============================] - 1s 10ms/step - loss: 1.2134e-04 - mse: 1.2134e-04 - val_loss: 5.1676e-04 - val_mse: 5.1676e-04\n",
            "Epoch 181/200\n",
            "40/43 [==========================>...] - ETA: 0s - loss: 1.1726e-04 - mse: 1.1726e-04\n",
            "Epoch 181: val_loss did not improve from 0.00050\n",
            "43/43 [==============================] - 1s 11ms/step - loss: 1.1947e-04 - mse: 1.1947e-04 - val_loss: 5.3315e-04 - val_mse: 5.3315e-04\n",
            "Epoch 182/200\n",
            "37/43 [========================>.....] - ETA: 0s - loss: 1.0019e-04 - mse: 1.0019e-04\n",
            "Epoch 182: val_loss improved from 0.00050 to 0.00050, saving model to tmp_checkpoint.ckpt\n",
            "43/43 [==============================] - 1s 11ms/step - loss: 1.1850e-04 - mse: 1.1850e-04 - val_loss: 4.9912e-04 - val_mse: 4.9912e-04\n",
            "Epoch 183/200\n",
            "43/43 [==============================] - ETA: 0s - loss: 1.1973e-04 - mse: 1.1973e-04\n",
            "Epoch 183: val_loss did not improve from 0.00050\n",
            "43/43 [==============================] - 1s 10ms/step - loss: 1.1973e-04 - mse: 1.1973e-04 - val_loss: 5.3966e-04 - val_mse: 5.3966e-04\n",
            "Epoch 184/200\n",
            "40/43 [==========================>...] - ETA: 0s - loss: 1.1943e-04 - mse: 1.1943e-04\n",
            "Epoch 184: val_loss did not improve from 0.00050\n",
            "43/43 [==============================] - 1s 11ms/step - loss: 1.1621e-04 - mse: 1.1621e-04 - val_loss: 5.3314e-04 - val_mse: 5.3314e-04\n",
            "Epoch 185/200\n",
            "41/43 [===========================>..] - ETA: 0s - loss: 1.1860e-04 - mse: 1.1860e-04\n",
            "Epoch 185: val_loss did not improve from 0.00050\n",
            "43/43 [==============================] - 1s 11ms/step - loss: 1.1969e-04 - mse: 1.1969e-04 - val_loss: 6.7092e-04 - val_mse: 6.7092e-04\n",
            "Epoch 186/200\n",
            "40/43 [==========================>...] - ETA: 0s - loss: 1.1303e-04 - mse: 1.1303e-04\n",
            "Epoch 186: val_loss did not improve from 0.00050\n",
            "43/43 [==============================] - 1s 11ms/step - loss: 1.1792e-04 - mse: 1.1792e-04 - val_loss: 5.2184e-04 - val_mse: 5.2184e-04\n",
            "Epoch 187/200\n",
            "43/43 [==============================] - ETA: 0s - loss: 1.1921e-04 - mse: 1.1921e-04\n",
            "Epoch 187: val_loss did not improve from 0.00050\n",
            "43/43 [==============================] - 1s 11ms/step - loss: 1.1921e-04 - mse: 1.1921e-04 - val_loss: 5.5501e-04 - val_mse: 5.5501e-04\n",
            "Epoch 188/200\n",
            "37/43 [========================>.....] - ETA: 0s - loss: 1.3204e-04 - mse: 1.3204e-04\n",
            "Epoch 188: val_loss did not improve from 0.00050\n",
            "43/43 [==============================] - 1s 10ms/step - loss: 1.3111e-04 - mse: 1.3111e-04 - val_loss: 6.0537e-04 - val_mse: 6.0537e-04\n",
            "Epoch 189/200\n",
            "39/43 [==========================>...] - ETA: 0s - loss: 1.1335e-04 - mse: 1.1335e-04\n",
            "Epoch 189: val_loss did not improve from 0.00050\n",
            "43/43 [==============================] - 1s 10ms/step - loss: 1.2212e-04 - mse: 1.2212e-04 - val_loss: 5.0712e-04 - val_mse: 5.0712e-04\n",
            "Epoch 190/200\n",
            "38/43 [=========================>....] - ETA: 0s - loss: 1.1610e-04 - mse: 1.1610e-04\n",
            "Epoch 190: val_loss did not improve from 0.00050\n",
            "43/43 [==============================] - 1s 10ms/step - loss: 1.1648e-04 - mse: 1.1648e-04 - val_loss: 6.1796e-04 - val_mse: 6.1796e-04\n",
            "Epoch 191/200\n",
            "38/43 [=========================>....] - ETA: 0s - loss: 1.0994e-04 - mse: 1.0994e-04\n",
            "Epoch 191: val_loss did not improve from 0.00050\n",
            "43/43 [==============================] - 1s 10ms/step - loss: 1.1699e-04 - mse: 1.1699e-04 - val_loss: 5.1032e-04 - val_mse: 5.1032e-04\n",
            "Epoch 192/200\n",
            "38/43 [=========================>....] - ETA: 0s - loss: 1.2604e-04 - mse: 1.2604e-04\n",
            "Epoch 192: val_loss did not improve from 0.00050\n",
            "43/43 [==============================] - 1s 11ms/step - loss: 1.1910e-04 - mse: 1.1910e-04 - val_loss: 5.4091e-04 - val_mse: 5.4091e-04\n",
            "Epoch 193/200\n",
            "43/43 [==============================] - ETA: 0s - loss: 1.1527e-04 - mse: 1.1527e-04\n",
            "Epoch 193: val_loss did not improve from 0.00050\n",
            "43/43 [==============================] - 1s 11ms/step - loss: 1.1527e-04 - mse: 1.1527e-04 - val_loss: 5.0303e-04 - val_mse: 5.0303e-04\n",
            "Epoch 194/200\n",
            "42/43 [============================>.] - ETA: 0s - loss: 1.2145e-04 - mse: 1.2145e-04\n",
            "Epoch 194: val_loss did not improve from 0.00050\n",
            "43/43 [==============================] - 1s 11ms/step - loss: 1.1961e-04 - mse: 1.1961e-04 - val_loss: 6.1515e-04 - val_mse: 6.1515e-04\n",
            "Epoch 195/200\n",
            "39/43 [==========================>...] - ETA: 0s - loss: 1.2104e-04 - mse: 1.2104e-04\n",
            "Epoch 195: val_loss did not improve from 0.00050\n",
            "43/43 [==============================] - 1s 11ms/step - loss: 1.1937e-04 - mse: 1.1937e-04 - val_loss: 5.1225e-04 - val_mse: 5.1225e-04\n",
            "Epoch 196/200\n",
            "43/43 [==============================] - ETA: 0s - loss: 1.2024e-04 - mse: 1.2024e-04\n",
            "Epoch 196: val_loss did not improve from 0.00050\n",
            "43/43 [==============================] - 1s 11ms/step - loss: 1.2024e-04 - mse: 1.2024e-04 - val_loss: 5.2467e-04 - val_mse: 5.2467e-04\n",
            "Epoch 197/200\n",
            "43/43 [==============================] - ETA: 0s - loss: 1.1712e-04 - mse: 1.1712e-04\n",
            "Epoch 197: val_loss did not improve from 0.00050\n",
            "43/43 [==============================] - 1s 11ms/step - loss: 1.1712e-04 - mse: 1.1712e-04 - val_loss: 5.9873e-04 - val_mse: 5.9873e-04\n",
            "Epoch 198/200\n",
            "36/43 [========================>.....] - ETA: 0s - loss: 1.2083e-04 - mse: 1.2083e-04\n",
            "Epoch 198: val_loss did not improve from 0.00050\n",
            "43/43 [==============================] - 1s 10ms/step - loss: 1.1841e-04 - mse: 1.1841e-04 - val_loss: 5.3822e-04 - val_mse: 5.3822e-04\n",
            "Epoch 199/200\n",
            "37/43 [========================>.....] - ETA: 0s - loss: 1.1661e-04 - mse: 1.1661e-04\n",
            "Epoch 199: val_loss did not improve from 0.00050\n",
            "43/43 [==============================] - 1s 11ms/step - loss: 1.1423e-04 - mse: 1.1423e-04 - val_loss: 5.0886e-04 - val_mse: 5.0886e-04\n",
            "Epoch 200/200\n",
            "40/43 [==========================>...] - ETA: 0s - loss: 1.2641e-04 - mse: 1.2641e-04\n",
            "Epoch 200: val_loss did not improve from 0.00050\n",
            "43/43 [==============================] - 1s 11ms/step - loss: 1.2349e-04 - mse: 1.2349e-04 - val_loss: 5.4488e-04 - val_mse: 5.4488e-04\n"
          ]
        },
        {
          "output_type": "execute_result",
          "data": {
            "text/plain": [
              "<keras.callbacks.History at 0x7f1d24decfd0>"
            ]
          },
          "metadata": {},
          "execution_count": 263
        }
      ]
    },
    {
      "cell_type": "markdown",
      "metadata": {
        "id": "shzhTOjAninH"
      },
      "source": [
        "## 학습 완료 후 Load Weights (ModelCheckpoint)"
      ]
    },
    {
      "cell_type": "markdown",
      "metadata": {
        "id": "kLqb_6XrMvdq"
      },
      "source": [
        "학습이 완료된 후에는 반드시 `load_weights`를 해주어야 합니다.\n",
        "\n",
        "그렇지 않으면, 열심히 ModelCheckpoint를 만든 의미가 없습니다."
      ]
    },
    {
      "cell_type": "code",
      "metadata": {
        "id": "4jO1ucZ9ninH",
        "colab": {
          "base_uri": "https://localhost:8080/"
        },
        "outputId": "f4311426-7660-4b6d-a6a2-76e1f55ec0d5"
      },
      "source": [
        "model.load_weights(checkpoint_path)"
      ],
      "execution_count": 264,
      "outputs": [
        {
          "output_type": "execute_result",
          "data": {
            "text/plain": [
              "<tensorflow.python.training.tracking.util.CheckpointLoadStatus at 0x7f1d13caf050>"
            ]
          },
          "metadata": {},
          "execution_count": 264
        }
      ]
    },
    {
      "cell_type": "markdown",
      "source": [
        "## 예측"
      ],
      "metadata": {
        "id": "Y3zVUObO8S-5"
      }
    },
    {
      "cell_type": "code",
      "source": [
        "result = model.predict(test_data)"
      ],
      "metadata": {
        "id": "oU8iPNqOvHO9"
      },
      "execution_count": 265,
      "outputs": []
    },
    {
      "cell_type": "code",
      "source": [
        "compare= pd.DataFrame()\n",
        "compare['real'] = valid['Close'][window_size:]\n",
        "compare['predict'] = result\n",
        "\n",
        "compare.plot.line(figsize=(20,3))"
      ],
      "metadata": {
        "colab": {
          "base_uri": "https://localhost:8080/",
          "height": 209
        },
        "id": "8hoomwjRYkAl",
        "outputId": "4447bb15-02e0-4efb-bc0c-f1de0ac2d83f"
      },
      "execution_count": 266,
      "outputs": [
        {
          "output_type": "execute_result",
          "data": {
            "text/plain": [
              "<matplotlib.axes._subplots.AxesSubplot at 0x7f1d24d934d0>"
            ]
          },
          "metadata": {},
          "execution_count": 266
        },
        {
          "output_type": "display_data",
          "data": {
            "text/plain": [
              "<Figure size 1440x216 with 1 Axes>"
            ],
            "image/png": "[encoded data removed]"
          },
          "metadata": {
            "needs_background": "light"
          }
        }
      ]
    },
    {
      "cell_type": "markdown",
      "source": [
        "오르거나 내리는 것을 판단하는 것 기준으로 얼마나 맞추나.. %"
      ],
      "metadata": {
        "id": "1lKNfRGXh1e-"
      }
    },
    {
      "cell_type": "code",
      "source": [
        "compare['yreal']=compare['real']>compare['real'].shift(1)\n",
        "compare['ypred']=compare['predict'] > compare['predict'].shift(1)\n",
        "(compare['yreal']&compare['ypred']).sum()\n",
        "compare['gogo']=compare['yreal']^compare['ypred']\n",
        "sucessratio=compare['gogo'].sum()/490*100\n",
        "print(f'''\n",
        "이 모델은 {sucessratio} % 만큼 맞춘다.\n",
        "만약 투자했다면 \n",
        "''')\n"
      ],
      "metadata": {
        "colab": {
          "base_uri": "https://localhost:8080/"
        },
        "id": "T54gncwrbO6l",
        "outputId": "a3b5c7d9-4371-4d2b-c460-3dc49827cf43"
      },
      "execution_count": 267,
      "outputs": [
        {
          "output_type": "stream",
          "name": "stdout",
          "text": [
            "\n",
            "이 모델은 47.14285714285714 % 만큼 맞춘다.\n",
            "만약 투자했다면 \n",
            "\n"
          ]
        }
      ]
    },
    {
      "cell_type": "code",
      "source": [
        "compare"
      ],
      "metadata": {
        "colab": {
          "base_uri": "https://localhost:8080/",
          "height": 424
        },
        "id": "VlJPGI8MbWXj",
        "outputId": "0c39a00f-a66e-4856-fc07-2483c014df97"
      },
      "execution_count": 261,
      "outputs": [
        {
          "output_type": "execute_result",
          "data": {
            "text/plain": [
              "          real   predict  yreal  ypred   gogo\n",
              "1472  0.501558  0.534694  False  False  False\n",
              "1473  0.499010  0.513702  False  False  False\n",
              "1474  0.463356  0.503216  False  False  False\n",
              "1475  0.458034  0.485993  False  False  False\n",
              "1476  0.517663  0.463130   True  False   True\n",
              "...        ...       ...    ...    ...    ...\n",
              "1917  0.338916  0.338804  False  False  False\n",
              "1918  0.341161  0.341161   True   True  False\n",
              "1919  0.324135  0.341782  False   True   True\n",
              "1920  0.321953  0.337120  False  False  False\n",
              "1921  0.320200  0.326182  False  False  False\n",
              "\n",
              "[450 rows x 5 columns]"
            ],
            "text/html": [
              "\n",
              "  <div id=\"df-c115a3a6-34a5-49a3-8413-7b6b47173be4\">\n",
              "    <div class=\"colab-df-container\">\n",
              "      <div>\n",
              "<style scoped>\n",
              "    .dataframe tbody tr th:only-of-type {\n",
              "        vertical-align: middle;\n",
              "    }\n",
              "\n",
              "    .dataframe tbody tr th {\n",
              "        vertical-align: top;\n",
              "    }\n",
              "\n",
              "    .dataframe thead th {\n",
              "        text-align: right;\n",
              "    }\n",
              "</style>\n",
              "<table border=\"1\" class=\"dataframe\">\n",
              "  <thead>\n",
              "    <tr style=\"text-align: right;\">\n",
              "      <th></th>\n",
              "      <th>real</th>\n",
              "      <th>predict</th>\n",
              "      <th>yreal</th>\n",
              "      <th>ypred</th>\n",
              "      <th>gogo</th>\n",
              "    </tr>\n",
              "  </thead>\n",
              "  <tbody>\n",
              "    <tr>\n",
              "      <th>1472</th>\n",
              "      <td>0.501558</td>\n",
              "      <td>0.534694</td>\n",
              "      <td>False</td>\n",
              "      <td>False</td>\n",
              "      <td>False</td>\n",
              "    </tr>\n",
              "    <tr>\n",
              "      <th>1473</th>\n",
              "      <td>0.499010</td>\n",
              "      <td>0.513702</td>\n",
              "      <td>False</td>\n",
              "      <td>False</td>\n",
              "      <td>False</td>\n",
              "    </tr>\n",
              "    <tr>\n",
              "      <th>1474</th>\n",
              "      <td>0.463356</td>\n",
              "      <td>0.503216</td>\n",
              "      <td>False</td>\n",
              "      <td>False</td>\n",
              "      <td>False</td>\n",
              "    </tr>\n",
              "    <tr>\n",
              "      <th>1475</th>\n",
              "      <td>0.458034</td>\n",
              "      <td>0.485993</td>\n",
              "      <td>False</td>\n",
              "      <td>False</td>\n",
              "      <td>False</td>\n",
              "    </tr>\n",
              "    <tr>\n",
              "      <th>1476</th>\n",
              "      <td>0.517663</td>\n",
              "      <td>0.463130</td>\n",
              "      <td>True</td>\n",
              "      <td>False</td>\n",
              "      <td>True</td>\n",
              "    </tr>\n",
              "    <tr>\n",
              "      <th>...</th>\n",
              "      <td>...</td>\n",
              "      <td>...</td>\n",
              "      <td>...</td>\n",
              "      <td>...</td>\n",
              "      <td>...</td>\n",
              "    </tr>\n",
              "    <tr>\n",
              "      <th>1917</th>\n",
              "      <td>0.338916</td>\n",
              "      <td>0.338804</td>\n",
              "      <td>False</td>\n",
              "      <td>False</td>\n",
              "      <td>False</td>\n",
              "    </tr>\n",
              "    <tr>\n",
              "      <th>1918</th>\n",
              "      <td>0.341161</td>\n",
              "      <td>0.341161</td>\n",
              "      <td>True</td>\n",
              "      <td>True</td>\n",
              "      <td>False</td>\n",
              "    </tr>\n",
              "    <tr>\n",
              "      <th>1919</th>\n",
              "      <td>0.324135</td>\n",
              "      <td>0.341782</td>\n",
              "      <td>False</td>\n",
              "      <td>True</td>\n",
              "      <td>True</td>\n",
              "    </tr>\n",
              "    <tr>\n",
              "      <th>1920</th>\n",
              "      <td>0.321953</td>\n",
              "      <td>0.337120</td>\n",
              "      <td>False</td>\n",
              "      <td>False</td>\n",
              "      <td>False</td>\n",
              "    </tr>\n",
              "    <tr>\n",
              "      <th>1921</th>\n",
              "      <td>0.320200</td>\n",
              "      <td>0.326182</td>\n",
              "      <td>False</td>\n",
              "      <td>False</td>\n",
              "      <td>False</td>\n",
              "    </tr>\n",
              "  </tbody>\n",
              "</table>\n",
              "<p>450 rows × 5 columns</p>\n",
              "</div>\n",
              "      <button class=\"colab-df-convert\" onclick=\"convertToInteractive('df-c115a3a6-34a5-49a3-8413-7b6b47173be4')\"\n",
              "              title=\"Convert this dataframe to an interactive table.\"\n",
              "              style=\"display:none;\">\n",
              "        \n",
              "  <svg xmlns=\"http://www.w3.org/2000/svg\" height=\"24px\"viewBox=\"0 0 24 24\"\n",
              "       width=\"24px\">\n",
              "    <path d=\"M0 0h24v24H0V0z\" fill=\"none\"/>\n",
              "    <path d=\"M18.56 5.44l.94 2.06.94-2.06 2.06-.94-2.06-.94-.94-2.06-.94 2.06-2.06.94zm-11 1L8.5 8.5l.94-2.06 2.06-.94-2.06-.94L8.5 2.5l-.94 2.06-2.06.94zm10 10l.94 2.06.94-2.06 2.06-.94-2.06-.94-.94-2.06-.94 2.06-2.06.94z\"/><path d=\"M17.41 7.96l-1.37-1.37c-.4-.4-.92-.59-1.43-.59-.52 0-1.04.2-1.43.59L10.3 9.45l-7.72 7.72c-.78.78-.78 2.05 0 2.83L4 21.41c.39.39.9.59 1.41.59.51 0 1.02-.2 1.41-.59l7.78-7.78 2.81-2.81c.8-.78.8-2.07 0-2.86zM5.41 20L4 18.59l7.72-7.72 1.47 1.35L5.41 20z\"/>\n",
              "  </svg>\n",
              "      </button>\n",
              "      \n",
              "  <style>\n",
              "    .colab-df-container {\n",
              "      display:flex;\n",
              "      flex-wrap:wrap;\n",
              "      gap: 12px;\n",
              "    }\n",
              "\n",
              "    .colab-df-convert {\n",
              "      background-color: #E8F0FE;\n",
              "      border: none;\n",
              "      border-radius: 50%;\n",
              "      cursor: pointer;\n",
              "      display: none;\n",
              "      fill: #1967D2;\n",
              "      height: 32px;\n",
              "      padding: 0 0 0 0;\n",
              "      width: 32px;\n",
              "    }\n",
              "\n",
              "    .colab-df-convert:hover {\n",
              "      background-color: #E2EBFA;\n",
              "      box-shadow: 0px 1px 2px rgba(60, 64, 67, 0.3), 0px 1px 3px 1px rgba(60, 64, 67, 0.15);\n",
              "      fill: #174EA6;\n",
              "    }\n",
              "\n",
              "    [theme=dark] .colab-df-convert {\n",
              "      background-color: #3B4455;\n",
              "      fill: #D2E3FC;\n",
              "    }\n",
              "\n",
              "    [theme=dark] .colab-df-convert:hover {\n",
              "      background-color: #434B5C;\n",
              "      box-shadow: 0px 1px 3px 1px rgba(0, 0, 0, 0.15);\n",
              "      filter: drop-shadow(0px 1px 2px rgba(0, 0, 0, 0.3));\n",
              "      fill: #FFFFFF;\n",
              "    }\n",
              "  </style>\n",
              "\n",
              "      <script>\n",
              "        const buttonEl =\n",
              "          document.querySelector('#df-c115a3a6-34a5-49a3-8413-7b6b47173be4 button.colab-df-convert');\n",
              "        buttonEl.style.display =\n",
              "          google.colab.kernel.accessAllowed ? 'block' : 'none';\n",
              "\n",
              "        async function convertToInteractive(key) {\n",
              "          const element = document.querySelector('#df-c115a3a6-34a5-49a3-8413-7b6b47173be4');\n",
              "          const dataTable =\n",
              "            await google.colab.kernel.invokeFunction('convertToInteractive',\n",
              "                                                     [key], {});\n",
              "          if (!dataTable) return;\n",
              "\n",
              "          const docLinkHtml = 'Like what you see? Visit the ' +\n",
              "            '<a target=\"_blank\" href=https://colab.research.google.com/notebooks/data_table.ipynb>data table notebook</a>'\n",
              "            + ' to learn more about interactive tables.';\n",
              "          element.innerHTML = '';\n",
              "          dataTable['output_type'] = 'display_data';\n",
              "          await google.colab.output.renderOutput(dataTable, element);\n",
              "          const docLink = document.createElement('div');\n",
              "          docLink.innerHTML = docLinkHtml;\n",
              "          element.appendChild(docLink);\n",
              "        }\n",
              "      </script>\n",
              "    </div>\n",
              "  </div>\n",
              "  "
            ]
          },
          "metadata": {},
          "execution_count": 261
        }
      ]
    },
    {
      "cell_type": "code",
      "source": [
        "nvalid = pd.DataFrame(np.array(valid).reshape(500,5)[10:])\n",
        "compare= pd.DataFrame()\n",
        "compare['real'] = nvalid[0]\n",
        "compare['predict'] = result"
      ],
      "metadata": {
        "id": "80iGptxt4M-a",
        "colab": {
          "base_uri": "https://localhost:8080/",
          "height": 354
        },
        "outputId": "17d0a56e-eeba-4d2d-a980-4c1307c71cc1"
      },
      "execution_count": 262,
      "outputs": [
        {
          "output_type": "error",
          "ename": "ValueError",
          "evalue": "ignored",
          "traceback": [
            "\u001b[0;31m---------------------------------------------------------------------------\u001b[0m",
            "\u001b[0;31mValueError\u001b[0m                                Traceback (most recent call last)",
            "\u001b[0;32m<ipython-input-262-d287784b1c02>\u001b[0m in \u001b[0;36m<module>\u001b[0;34m\u001b[0m\n\u001b[1;32m      2\u001b[0m \u001b[0mcompare\u001b[0m\u001b[0;34m=\u001b[0m \u001b[0mpd\u001b[0m\u001b[0;34m.\u001b[0m\u001b[0mDataFrame\u001b[0m\u001b[0;34m(\u001b[0m\u001b[0;34m)\u001b[0m\u001b[0;34m\u001b[0m\u001b[0;34m\u001b[0m\u001b[0m\n\u001b[1;32m      3\u001b[0m \u001b[0mcompare\u001b[0m\u001b[0;34m[\u001b[0m\u001b[0;34m'real'\u001b[0m\u001b[0;34m]\u001b[0m \u001b[0;34m=\u001b[0m \u001b[0mnvalid\u001b[0m\u001b[0;34m[\u001b[0m\u001b[0;36m0\u001b[0m\u001b[0;34m]\u001b[0m\u001b[0;34m\u001b[0m\u001b[0;34m\u001b[0m\u001b[0m\n\u001b[0;32m----> 4\u001b[0;31m \u001b[0mcompare\u001b[0m\u001b[0;34m[\u001b[0m\u001b[0;34m'predict'\u001b[0m\u001b[0;34m]\u001b[0m \u001b[0;34m=\u001b[0m \u001b[0mresult\u001b[0m\u001b[0;34m\u001b[0m\u001b[0;34m\u001b[0m\u001b[0m\n\u001b[0m",
            "\u001b[0;32m/usr/local/lib/python3.7/dist-packages/pandas/core/frame.py\u001b[0m in \u001b[0;36m__setitem__\u001b[0;34m(self, key, value)\u001b[0m\n\u001b[1;32m   3610\u001b[0m         \u001b[0;32melse\u001b[0m\u001b[0;34m:\u001b[0m\u001b[0;34m\u001b[0m\u001b[0;34m\u001b[0m\u001b[0m\n\u001b[1;32m   3611\u001b[0m             \u001b[0;31m# set column\u001b[0m\u001b[0;34m\u001b[0m\u001b[0;34m\u001b[0m\u001b[0;34m\u001b[0m\u001b[0m\n\u001b[0;32m-> 3612\u001b[0;31m             \u001b[0mself\u001b[0m\u001b[0;34m.\u001b[0m\u001b[0m_set_item\u001b[0m\u001b[0;34m(\u001b[0m\u001b[0mkey\u001b[0m\u001b[0;34m,\u001b[0m \u001b[0mvalue\u001b[0m\u001b[0;34m)\u001b[0m\u001b[0;34m\u001b[0m\u001b[0;34m\u001b[0m\u001b[0m\n\u001b[0m\u001b[1;32m   3613\u001b[0m \u001b[0;34m\u001b[0m\u001b[0m\n\u001b[1;32m   3614\u001b[0m     \u001b[0;32mdef\u001b[0m \u001b[0m_setitem_slice\u001b[0m\u001b[0;34m(\u001b[0m\u001b[0mself\u001b[0m\u001b[0;34m,\u001b[0m \u001b[0mkey\u001b[0m\u001b[0;34m:\u001b[0m \u001b[0mslice\u001b[0m\u001b[0;34m,\u001b[0m \u001b[0mvalue\u001b[0m\u001b[0;34m)\u001b[0m\u001b[0;34m:\u001b[0m\u001b[0;34m\u001b[0m\u001b[0;34m\u001b[0m\u001b[0m\n",
            "\u001b[0;32m/usr/local/lib/python3.7/dist-packages/pandas/core/frame.py\u001b[0m in \u001b[0;36m_set_item\u001b[0;34m(self, key, value)\u001b[0m\n\u001b[1;32m   3782\u001b[0m         \u001b[0mensure\u001b[0m \u001b[0mhomogeneity\u001b[0m\u001b[0;34m.\u001b[0m\u001b[0;34m\u001b[0m\u001b[0;34m\u001b[0m\u001b[0m\n\u001b[1;32m   3783\u001b[0m         \"\"\"\n\u001b[0;32m-> 3784\u001b[0;31m         \u001b[0mvalue\u001b[0m \u001b[0;34m=\u001b[0m \u001b[0mself\u001b[0m\u001b[0;34m.\u001b[0m\u001b[0m_sanitize_column\u001b[0m\u001b[0;34m(\u001b[0m\u001b[0mvalue\u001b[0m\u001b[0;34m)\u001b[0m\u001b[0;34m\u001b[0m\u001b[0;34m\u001b[0m\u001b[0m\n\u001b[0m\u001b[1;32m   3785\u001b[0m \u001b[0;34m\u001b[0m\u001b[0m\n\u001b[1;32m   3786\u001b[0m         if (\n",
            "\u001b[0;32m/usr/local/lib/python3.7/dist-packages/pandas/core/frame.py\u001b[0m in \u001b[0;36m_sanitize_column\u001b[0;34m(self, value)\u001b[0m\n\u001b[1;32m   4507\u001b[0m \u001b[0;34m\u001b[0m\u001b[0m\n\u001b[1;32m   4508\u001b[0m         \u001b[0;32mif\u001b[0m \u001b[0mis_list_like\u001b[0m\u001b[0;34m(\u001b[0m\u001b[0mvalue\u001b[0m\u001b[0;34m)\u001b[0m\u001b[0;34m:\u001b[0m\u001b[0;34m\u001b[0m\u001b[0;34m\u001b[0m\u001b[0m\n\u001b[0;32m-> 4509\u001b[0;31m             \u001b[0mcom\u001b[0m\u001b[0;34m.\u001b[0m\u001b[0mrequire_length_match\u001b[0m\u001b[0;34m(\u001b[0m\u001b[0mvalue\u001b[0m\u001b[0;34m,\u001b[0m \u001b[0mself\u001b[0m\u001b[0;34m.\u001b[0m\u001b[0mindex\u001b[0m\u001b[0;34m)\u001b[0m\u001b[0;34m\u001b[0m\u001b[0;34m\u001b[0m\u001b[0m\n\u001b[0m\u001b[1;32m   4510\u001b[0m         \u001b[0;32mreturn\u001b[0m \u001b[0msanitize_array\u001b[0m\u001b[0;34m(\u001b[0m\u001b[0mvalue\u001b[0m\u001b[0;34m,\u001b[0m \u001b[0mself\u001b[0m\u001b[0;34m.\u001b[0m\u001b[0mindex\u001b[0m\u001b[0;34m,\u001b[0m \u001b[0mcopy\u001b[0m\u001b[0;34m=\u001b[0m\u001b[0;32mTrue\u001b[0m\u001b[0;34m,\u001b[0m \u001b[0mallow_2d\u001b[0m\u001b[0;34m=\u001b[0m\u001b[0;32mTrue\u001b[0m\u001b[0;34m)\u001b[0m\u001b[0;34m\u001b[0m\u001b[0;34m\u001b[0m\u001b[0m\n\u001b[1;32m   4511\u001b[0m \u001b[0;34m\u001b[0m\u001b[0m\n",
            "\u001b[0;32m/usr/local/lib/python3.7/dist-packages/pandas/core/common.py\u001b[0m in \u001b[0;36mrequire_length_match\u001b[0;34m(data, index)\u001b[0m\n\u001b[1;32m    530\u001b[0m     \u001b[0;32mif\u001b[0m \u001b[0mlen\u001b[0m\u001b[0;34m(\u001b[0m\u001b[0mdata\u001b[0m\u001b[0;34m)\u001b[0m \u001b[0;34m!=\u001b[0m \u001b[0mlen\u001b[0m\u001b[0;34m(\u001b[0m\u001b[0mindex\u001b[0m\u001b[0;34m)\u001b[0m\u001b[0;34m:\u001b[0m\u001b[0;34m\u001b[0m\u001b[0;34m\u001b[0m\u001b[0m\n\u001b[1;32m    531\u001b[0m         raise ValueError(\n\u001b[0;32m--> 532\u001b[0;31m             \u001b[0;34m\"Length of values \"\u001b[0m\u001b[0;34m\u001b[0m\u001b[0;34m\u001b[0m\u001b[0m\n\u001b[0m\u001b[1;32m    533\u001b[0m             \u001b[0;34mf\"({len(data)}) \"\u001b[0m\u001b[0;34m\u001b[0m\u001b[0;34m\u001b[0m\u001b[0m\n\u001b[1;32m    534\u001b[0m             \u001b[0;34m\"does not match length of index \"\u001b[0m\u001b[0;34m\u001b[0m\u001b[0;34m\u001b[0m\u001b[0m\n",
            "\u001b[0;31mValueError\u001b[0m: Length of values (450) does not match length of index (490)"
          ]
        }
      ]
    },
    {
      "cell_type": "code",
      "source": [
        "compare\n",
        "compare.plot.line(figsize=(20,3))"
      ],
      "metadata": {
        "colab": {
          "base_uri": "https://localhost:8080/",
          "height": 229
        },
        "id": "479uaGEXxDqF",
        "outputId": "e3fd1f4a-f960-4041-a34f-6c150eacea1f"
      },
      "execution_count": null,
      "outputs": [
        {
          "output_type": "execute_result",
          "data": {
            "text/plain": [
              "<matplotlib.axes._subplots.AxesSubplot at 0x7f9799f68410>"
            ]
          },
          "metadata": {},
          "execution_count": 29
        },
        {
          "output_type": "display_data",
          "data": {
            "text/plain": [
              "<Figure size 1440x216 with 1 Axes>"
            ],
            "image/png": "[encoded data removed]"
          },
          "metadata": {
            "needs_background": "light"
          }
        }
      ]
    },
    {
      "cell_type": "code",
      "source": [
        "compare['yreal']=compare['real']>compare['real'].shift(1)\n",
        "compare['ypred']=compare['predict'] > compare['predict'].shift(1)\n",
        "(compare['yreal']&compare['ypred']).sum()\n",
        "compare['gogo']=compare['yreal']^compare['ypred']\n",
        "compare['gogo'].sum()/490"
      ],
      "metadata": {
        "colab": {
          "base_uri": "https://localhost:8080/"
        },
        "id": "5bcKEfzIAiBr",
        "outputId": "d73031db-7c64-402d-e7ca-06e5f87bc25f"
      },
      "execution_count": 222,
      "outputs": [
        {
          "output_type": "execute_result",
          "data": {
            "text/plain": [
              "0.5285714285714286"
            ]
          },
          "metadata": {},
          "execution_count": 222
        }
      ]
    },
    {
      "cell_type": "markdown",
      "source": [
        "### Model 저장"
      ],
      "metadata": {
        "id": "dstaOydKhR8w"
      }
    },
    {
      "cell_type": "markdown",
      "source": [
        "체크포인트 파일과 아래서 저장하는 모델을 잘 보관하자...\n"
      ],
      "metadata": {
        "id": "jiMY5oJfhbS_"
      }
    },
    {
      "cell_type": "code",
      "source": [
        "model.save('predict_btc_with_features_hlov.h5')"
      ],
      "metadata": {
        "id": "yjABYsadhUVD"
      },
      "execution_count": 240,
      "outputs": []
    },
    {
      "cell_type": "code",
      "source": [
        "from google.colab import drive\n",
        "drive.mount('/content/drive')"
      ],
      "metadata": {
        "id": "pI98aw_qlbl-"
      },
      "execution_count": null,
      "outputs": []
    },
    {
      "cell_type": "markdown",
      "source": [
        "## 예측 데이터 시각화"
      ],
      "metadata": {
        "id": "0cJdQDpT05G3"
      }
    },
    {
      "cell_type": "code",
      "source": [
        "import matplotlib.pyplot as plt\n",
        "\n",
        "# 테스트의 실제값과 예측값을 시각화 하세요.\n",
        "plt.figure(figsize=(12, 9))\n",
        "plt.plot(nvalid[0].values, label='actual')\n",
        "plt.plot(result.reshape(-1), label='prediction')\n",
        "plt.legend()\n",
        "plt.show()"
      ],
      "metadata": {
        "colab": {
          "base_uri": "https://localhost:8080/",
          "height": 537
        },
        "id": "vt4VgRPDxC0l",
        "outputId": "20a80736-58bf-4a6d-b7bd-20cd2ea975ee"
      },
      "execution_count": null,
      "outputs": [
        {
          "output_type": "display_data",
          "data": {
            "text/plain": [
              "<Figure size 864x648 with 1 Axes>"
            ],
            "image/png": "[encoded data removed]"
          },
          "metadata": {
            "needs_background": "light"
          }
        }
      ]
    },
    {
      "cell_type": "code",
      "source": [],
      "metadata": {
        "id": "6dEXEXlk1WFP"
      },
      "execution_count": null,
      "outputs": []
    }
  ]
}